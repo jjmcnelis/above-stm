{
 "cells": [
  {
   "cell_type": "markdown",
   "metadata": {},
   "source": [
    "# Interactively Search CMR for  ABoVE Collections & Granules\n",
    "\n",
    "https://above.nasa.gov/implementation_plan/standard_projection.html#reference\n",
    "\n",
    "`![ABoVE Grid AB](https://above.nasa.gov/images/standard_projection_image_20170621.png)`"
   ]
  },
  {
   "cell_type": "code",
   "execution_count": 3,
   "metadata": {
    "scrolled": false
   },
   "outputs": [
    {
     "data": {
      "application/vnd.jupyter.widget-view+json": {
       "model_id": "29efc871336e442f80bbd21f439de4da",
       "version_major": 2,
       "version_minor": 0
      },
      "text/plain": [
       "VBox(children=(Map(basemap={'url': 'https://{s}.tile.openstreetmap.org/{z}/{x}/{y}.png', 'max_zoom': 19, 'attr…"
      ]
     },
     "metadata": {},
     "output_type": "display_data"
    }
   ],
   "source": [
    "from ABoVE import *"
   ]
  },
  {
   "cell_type": "code",
   "execution_count": 28,
   "metadata": {},
   "outputs": [],
   "source": []
  },
  {
   "cell_type": "code",
   "execution_count": 29,
   "metadata": {},
   "outputs": [
    {
     "data": {
      "text/plain": [
       "{'meta': {'revision-id': 4,\n",
       "  'deleted': False,\n",
       "  'format': 'application/echo10+xml',\n",
       "  'provider-id': 'ORNL_DAAC',\n",
       "  'user-id': 'ornl_daac',\n",
       "  'has-formats': False,\n",
       "  'has-spatial-subsetting': False,\n",
       "  'native-id': 'A Concise Experiment Plan for the Arctic-Boreal Vulnerability Experiment',\n",
       "  'has-transforms': False,\n",
       "  'has-variables': False,\n",
       "  'concept-id': 'C1536961538-ORNL_DAAC',\n",
       "  'revision-date': '2019-04-15T18:55:49Z',\n",
       "  'granule-count': 0,\n",
       "  'concept-type': 'collection'},\n",
       " 'umm': {'CollectionCitations': [{'OtherCitationDetails': 'ABOVE SCIENCE DEFINITION TEAM. 2014. A Concise Experiment Plan for the Arctic-Boreal Vulnerability Experiment. ORNL DAAC, Oak Ridge, Tennessee, USA. https://doi.org/10.3334/ORNLDAAC/1617',\n",
       "    'DOI': {'Authority': 'https://doi.org', 'DOI': '10.3334/ORNLDAAC/1617'}}],\n",
       "  'SpatialExtent': {'SpatialCoverageType': 'HORIZONTAL',\n",
       "   'HorizontalSpatialDomain': {'Geometry': {'CoordinateSystem': 'CARTESIAN',\n",
       "     'BoundingRectangles': [{'WestBoundingCoordinate': -176.12,\n",
       "       'NorthBoundingCoordinate': 81.61,\n",
       "       'EastBoundingCoordinate': -66.92,\n",
       "       'SouthBoundingCoordinate': 39.42}]}},\n",
       "   'GranuleSpatialRepresentation': 'CARTESIAN'},\n",
       "  'Distributions': [{'Sizes': [{}],\n",
       "    'DistributionFormat': 'Not provided',\n",
       "    'Fees': '0'}],\n",
       "  'CollectionProgress': 'COMPLETE',\n",
       "  'ScienceKeywords': [{'Category': 'EARTH SCIENCE',\n",
       "    'Topic': 'ATMOSPHERE',\n",
       "    'Term': 'ATMOSPHERIC CHEMISTRY',\n",
       "    'VariableLevel1': 'CARBON AND HYDROCARBON COMPOUNDS',\n",
       "    'VariableLevel2': 'CARBON DIOXIDE'},\n",
       "   {'Category': 'EARTH SCIENCE',\n",
       "    'Topic': 'ATMOSPHERE',\n",
       "    'Term': 'ATMOSPHERIC CHEMISTRY',\n",
       "    'VariableLevel1': 'CARBON AND HYDROCARBON COMPOUNDS',\n",
       "    'VariableLevel2': 'METHANE'},\n",
       "   {'Category': 'EARTH SCIENCE',\n",
       "    'Topic': 'BIOSPHERE',\n",
       "    'Term': 'ECOSYSTEMS',\n",
       "    'VariableLevel1': 'TERRESTRIAL ECOSYSTEMS',\n",
       "    'VariableLevel2': 'ALPINE/TUNDRA'},\n",
       "   {'Category': 'EARTH SCIENCE',\n",
       "    'Topic': 'BIOSPHERE',\n",
       "    'Term': 'ECOSYSTEMS',\n",
       "    'VariableLevel1': 'TERRESTRIAL ECOSYSTEMS',\n",
       "    'VariableLevel2': 'FORESTS'},\n",
       "   {'Category': 'EARTH SCIENCE', 'Topic': 'BIOSPHERE', 'Term': 'VEGETATION'},\n",
       "   {'Category': 'EARTH SCIENCE',\n",
       "    'Topic': 'CRYOSPHERE',\n",
       "    'Term': 'FROZEN GROUND',\n",
       "    'VariableLevel1': 'PERMAFROST'}],\n",
       "  'TemporalExtents': [{'EndsAtPresentFlag': False,\n",
       "    'RangeDateTimes': [{'BeginningDateTime': '2014-01-01T00:00:00.000Z',\n",
       "      'EndingDateTime': '2021-12-31T23:59:59.000Z'}]}],\n",
       "  'ProcessingLevel': {'ProcessingLevelDescription': 'model products',\n",
       "   'Id': '4'},\n",
       "  'ShortName': 'ABoVE_Concise_Experiment_Plan_1617',\n",
       "  'EntryTitle': 'A Concise Experiment Plan for the Arctic-Boreal Vulnerability Experiment',\n",
       "  'RelatedUrls': [{'Description': 'This link allows direct data access via Earthdata login',\n",
       "    'URLs': ['https://daac.ornl.gov/daacdata/above/ABoVE_Concise_Experiment_Plan/'],\n",
       "    'Relation': ['GET DATA']},\n",
       "   {'Description': 'ORNL DAAC Data Set Documentation',\n",
       "    'URLs': ['https://daac.ornl.gov/ABOVE/guides/ABoVE_Concise_Experiment_Plan.html'],\n",
       "    'Relation': ['VIEW RELATED INFORMATION', 'GENERAL DOCUMENTATION']},\n",
       "   {'Description': 'Data set Landing Page DOI URL',\n",
       "    'URLs': ['https://doi.org/10.3334/ORNLDAAC/1617'],\n",
       "    'Relation': ['DATA SET LANDING PAGE']},\n",
       "   {'Description': 'A Concise Experiment Plan for the Arctic-Boreal Vulnerability Experiment: ABoVE_Concise_Experiment_Plan.pdf',\n",
       "    'URLs': ['https://daac.ornl.gov/daacdata/above/ABoVE_Concise_Experiment_Plan/comp/ABoVE_Concise_Experiment_Plan.pdf'],\n",
       "    'Relation': ['VIEW RELATED INFORMATION', 'GENERAL DOCUMENTATION']},\n",
       "   {'Description': 'A Concise Experiment Plan for the Arctic-Boreal Vulnerability Experiment: ACEP_Erratum.pdf',\n",
       "    'URLs': ['https://daac.ornl.gov/daacdata/above/ABoVE_Concise_Experiment_Plan/comp/ACEP_Erratum.pdf'],\n",
       "    'Relation': ['VIEW RELATED INFORMATION', 'GENERAL DOCUMENTATION']},\n",
       "   {'Description': 'A Concise Experiment Plan for the Arctic-Boreal Vulnerability Experiment: ACEP_Figures.zip',\n",
       "    'URLs': ['https://daac.ornl.gov/daacdata/above/ABoVE_Concise_Experiment_Plan/comp/ACEP_Figures.zip'],\n",
       "    'Relation': ['VIEW RELATED INFORMATION', 'GENERAL DOCUMENTATION']},\n",
       "   {'Description': 'The Arctic-Boreal Vulnerability Experiment (ABoVE) is a NASA Terrestrial Ecology Program field campaign that will take place in Alaska and western Canada between 2016 and 2021.',\n",
       "    'URLs': ['https://daac.ornl.gov/ABOVE/guides/ABoVE_Concise_Experiment_Plan_Fig1.png'],\n",
       "    'Relation': ['GET RELATED VISUALIZATION']}],\n",
       "  'ContactGroups': [],\n",
       "  'DataDates': [{'Date': '2018-07-19T00:00:00.000Z', 'Type': 'CREATE'},\n",
       "   {'Date': '2019-04-15T18:55:48.000Z', 'Type': 'UPDATE'}],\n",
       "  'Abstract': \"This document presents the Concise Experiment Plan for NASA's Arctic-Boreal Vulnerability Experiment (ABoVE) to serve as a guide to the Program as it identifies the research to be conducted under this study. Research for ABoVE will link field-based, process-level studies with geospatial data products derived from airborne and satellite remote sensing, providing a foundation for improving the analysis and modeling capabilities needed to understand and predict ecosystem responses and societal implications. The ABoVE Concise Experiment Plan (ACEP) outlines the conceptual basis for the Field Campaign and expresses the compelling rationale explaining the scientific and societal importance of the study. It presents both the science questions driving ABoVE research as well as the top-level requirements for a study design to address them.\",\n",
       "  'MetadataDates': [{'Date': '2018-07-19T00:00:00.000Z', 'Type': 'UPDATE'}],\n",
       "  'Version': '1',\n",
       "  'Projects': [{'ShortName': 'ABoVE',\n",
       "    'LongName': 'Arctic-Boreal Vulnerability Experiment'}],\n",
       "  'ContactPersons': [],\n",
       "  'DataCenters': [{'Roles': ['ARCHIVER'],\n",
       "    'ShortName': 'ORNL_DAAC',\n",
       "    'ContactGroups': [],\n",
       "    'ContactPersons': [],\n",
       "    'ContactInformation': [{'RelatedUrls': [],\n",
       "      'ContactMechanisms': [{'Type': 'Direct Line', 'Value': '(865) 241-3952'},\n",
       "       {'Type': 'Email', 'Value': 'uso@daac.ornl.gov'}],\n",
       "      'Addresses': [{'StreetAddresses': ['ORNL DAAC User Services Office, P.O. Box 2008, MS 6407, Oak Ridge National Laboratory'],\n",
       "        'City': 'Oak Ridge',\n",
       "        'StateProvince': 'Tennessee',\n",
       "        'Country': 'USA',\n",
       "        'PostalCode': '37831-6407'}]}]}],\n",
       "  'Platforms': [{'Type': 'In Situ Land-based Platforms',\n",
       "    'ShortName': 'FIELD INVESTIGATION',\n",
       "    'Instruments': [{'ShortName': 'Computer', 'LongName': 'Computer'}]}]}}"
      ]
     },
     "execution_count": 29,
     "metadata": {},
     "output_type": "execute_result"
    }
   ],
   "source": [
    "above_datasets = cmr_search(dict(\n",
    "    project=\"ABoVE\", \n",
    "    page_size=\"1000\"))\n",
    "\n",
    "above_datasets[\"items\"][0]"
   ]
  },
  {
   "cell_type": "code",
   "execution_count": 36,
   "metadata": {},
   "outputs": [
    {
     "data": {
      "text/plain": [
       "{'revision-id': 4,\n",
       " 'deleted': False,\n",
       " 'format': 'application/echo10+xml',\n",
       " 'provider-id': 'ORNL_DAAC',\n",
       " 'user-id': 'ornl_daac',\n",
       " 'has-formats': False,\n",
       " 'has-spatial-subsetting': False,\n",
       " 'native-id': 'A Concise Experiment Plan for the Arctic-Boreal Vulnerability Experiment',\n",
       " 'has-transforms': False,\n",
       " 'has-variables': False,\n",
       " 'concept-id': 'C1536961538-ORNL_DAAC',\n",
       " 'revision-date': '2019-04-15T18:55:49Z',\n",
       " 'granule-count': 0,\n",
       " 'concept-type': 'collection'}"
      ]
     },
     "execution_count": 36,
     "metadata": {},
     "output_type": "execute_result"
    }
   ],
   "source": [
    "meta = above_datasets[\"items\"][0][\"meta\"]\n",
    "umm = above_datasets[\"items\"][0][\"umm\"]\n",
    "\n",
    "meta"
   ]
  },
  {
   "cell_type": "code",
   "execution_count": 37,
   "metadata": {
    "scrolled": false
   },
   "outputs": [
    {
     "data": {
      "text/plain": [
       "{'CollectionCitations': [{'OtherCitationDetails': 'ABOVE SCIENCE DEFINITION TEAM. 2014. A Concise Experiment Plan for the Arctic-Boreal Vulnerability Experiment. ORNL DAAC, Oak Ridge, Tennessee, USA. https://doi.org/10.3334/ORNLDAAC/1617',\n",
       "   'DOI': {'Authority': 'https://doi.org', 'DOI': '10.3334/ORNLDAAC/1617'}}],\n",
       " 'SpatialExtent': {'SpatialCoverageType': 'HORIZONTAL',\n",
       "  'HorizontalSpatialDomain': {'Geometry': {'CoordinateSystem': 'CARTESIAN',\n",
       "    'BoundingRectangles': [{'WestBoundingCoordinate': -176.12,\n",
       "      'NorthBoundingCoordinate': 81.61,\n",
       "      'EastBoundingCoordinate': -66.92,\n",
       "      'SouthBoundingCoordinate': 39.42}]}},\n",
       "  'GranuleSpatialRepresentation': 'CARTESIAN'},\n",
       " 'Distributions': [{'Sizes': [{}],\n",
       "   'DistributionFormat': 'Not provided',\n",
       "   'Fees': '0'}],\n",
       " 'CollectionProgress': 'COMPLETE',\n",
       " 'ScienceKeywords': [{'Category': 'EARTH SCIENCE',\n",
       "   'Topic': 'ATMOSPHERE',\n",
       "   'Term': 'ATMOSPHERIC CHEMISTRY',\n",
       "   'VariableLevel1': 'CARBON AND HYDROCARBON COMPOUNDS',\n",
       "   'VariableLevel2': 'CARBON DIOXIDE'},\n",
       "  {'Category': 'EARTH SCIENCE',\n",
       "   'Topic': 'ATMOSPHERE',\n",
       "   'Term': 'ATMOSPHERIC CHEMISTRY',\n",
       "   'VariableLevel1': 'CARBON AND HYDROCARBON COMPOUNDS',\n",
       "   'VariableLevel2': 'METHANE'},\n",
       "  {'Category': 'EARTH SCIENCE',\n",
       "   'Topic': 'BIOSPHERE',\n",
       "   'Term': 'ECOSYSTEMS',\n",
       "   'VariableLevel1': 'TERRESTRIAL ECOSYSTEMS',\n",
       "   'VariableLevel2': 'ALPINE/TUNDRA'},\n",
       "  {'Category': 'EARTH SCIENCE',\n",
       "   'Topic': 'BIOSPHERE',\n",
       "   'Term': 'ECOSYSTEMS',\n",
       "   'VariableLevel1': 'TERRESTRIAL ECOSYSTEMS',\n",
       "   'VariableLevel2': 'FORESTS'},\n",
       "  {'Category': 'EARTH SCIENCE', 'Topic': 'BIOSPHERE', 'Term': 'VEGETATION'},\n",
       "  {'Category': 'EARTH SCIENCE',\n",
       "   'Topic': 'CRYOSPHERE',\n",
       "   'Term': 'FROZEN GROUND',\n",
       "   'VariableLevel1': 'PERMAFROST'}],\n",
       " 'TemporalExtents': [{'EndsAtPresentFlag': False,\n",
       "   'RangeDateTimes': [{'BeginningDateTime': '2014-01-01T00:00:00.000Z',\n",
       "     'EndingDateTime': '2021-12-31T23:59:59.000Z'}]}],\n",
       " 'ProcessingLevel': {'ProcessingLevelDescription': 'model products',\n",
       "  'Id': '4'},\n",
       " 'ShortName': 'ABoVE_Concise_Experiment_Plan_1617',\n",
       " 'EntryTitle': 'A Concise Experiment Plan for the Arctic-Boreal Vulnerability Experiment',\n",
       " 'RelatedUrls': [{'Description': 'This link allows direct data access via Earthdata login',\n",
       "   'URLs': ['https://daac.ornl.gov/daacdata/above/ABoVE_Concise_Experiment_Plan/'],\n",
       "   'Relation': ['GET DATA']},\n",
       "  {'Description': 'ORNL DAAC Data Set Documentation',\n",
       "   'URLs': ['https://daac.ornl.gov/ABOVE/guides/ABoVE_Concise_Experiment_Plan.html'],\n",
       "   'Relation': ['VIEW RELATED INFORMATION', 'GENERAL DOCUMENTATION']},\n",
       "  {'Description': 'Data set Landing Page DOI URL',\n",
       "   'URLs': ['https://doi.org/10.3334/ORNLDAAC/1617'],\n",
       "   'Relation': ['DATA SET LANDING PAGE']},\n",
       "  {'Description': 'A Concise Experiment Plan for the Arctic-Boreal Vulnerability Experiment: ABoVE_Concise_Experiment_Plan.pdf',\n",
       "   'URLs': ['https://daac.ornl.gov/daacdata/above/ABoVE_Concise_Experiment_Plan/comp/ABoVE_Concise_Experiment_Plan.pdf'],\n",
       "   'Relation': ['VIEW RELATED INFORMATION', 'GENERAL DOCUMENTATION']},\n",
       "  {'Description': 'A Concise Experiment Plan for the Arctic-Boreal Vulnerability Experiment: ACEP_Erratum.pdf',\n",
       "   'URLs': ['https://daac.ornl.gov/daacdata/above/ABoVE_Concise_Experiment_Plan/comp/ACEP_Erratum.pdf'],\n",
       "   'Relation': ['VIEW RELATED INFORMATION', 'GENERAL DOCUMENTATION']},\n",
       "  {'Description': 'A Concise Experiment Plan for the Arctic-Boreal Vulnerability Experiment: ACEP_Figures.zip',\n",
       "   'URLs': ['https://daac.ornl.gov/daacdata/above/ABoVE_Concise_Experiment_Plan/comp/ACEP_Figures.zip'],\n",
       "   'Relation': ['VIEW RELATED INFORMATION', 'GENERAL DOCUMENTATION']},\n",
       "  {'Description': 'The Arctic-Boreal Vulnerability Experiment (ABoVE) is a NASA Terrestrial Ecology Program field campaign that will take place in Alaska and western Canada between 2016 and 2021.',\n",
       "   'URLs': ['https://daac.ornl.gov/ABOVE/guides/ABoVE_Concise_Experiment_Plan_Fig1.png'],\n",
       "   'Relation': ['GET RELATED VISUALIZATION']}],\n",
       " 'ContactGroups': [],\n",
       " 'DataDates': [{'Date': '2018-07-19T00:00:00.000Z', 'Type': 'CREATE'},\n",
       "  {'Date': '2019-04-15T18:55:48.000Z', 'Type': 'UPDATE'}],\n",
       " 'Abstract': \"This document presents the Concise Experiment Plan for NASA's Arctic-Boreal Vulnerability Experiment (ABoVE) to serve as a guide to the Program as it identifies the research to be conducted under this study. Research for ABoVE will link field-based, process-level studies with geospatial data products derived from airborne and satellite remote sensing, providing a foundation for improving the analysis and modeling capabilities needed to understand and predict ecosystem responses and societal implications. The ABoVE Concise Experiment Plan (ACEP) outlines the conceptual basis for the Field Campaign and expresses the compelling rationale explaining the scientific and societal importance of the study. It presents both the science questions driving ABoVE research as well as the top-level requirements for a study design to address them.\",\n",
       " 'MetadataDates': [{'Date': '2018-07-19T00:00:00.000Z', 'Type': 'UPDATE'}],\n",
       " 'Version': '1',\n",
       " 'Projects': [{'ShortName': 'ABoVE',\n",
       "   'LongName': 'Arctic-Boreal Vulnerability Experiment'}],\n",
       " 'ContactPersons': [],\n",
       " 'DataCenters': [{'Roles': ['ARCHIVER'],\n",
       "   'ShortName': 'ORNL_DAAC',\n",
       "   'ContactGroups': [],\n",
       "   'ContactPersons': [],\n",
       "   'ContactInformation': [{'RelatedUrls': [],\n",
       "     'ContactMechanisms': [{'Type': 'Direct Line', 'Value': '(865) 241-3952'},\n",
       "      {'Type': 'Email', 'Value': 'uso@daac.ornl.gov'}],\n",
       "     'Addresses': [{'StreetAddresses': ['ORNL DAAC User Services Office, P.O. Box 2008, MS 6407, Oak Ridge National Laboratory'],\n",
       "       'City': 'Oak Ridge',\n",
       "       'StateProvince': 'Tennessee',\n",
       "       'Country': 'USA',\n",
       "       'PostalCode': '37831-6407'}]}]}],\n",
       " 'Platforms': [{'Type': 'In Situ Land-based Platforms',\n",
       "   'ShortName': 'FIELD INVESTIGATION',\n",
       "   'Instruments': [{'ShortName': 'Computer', 'LongName': 'Computer'}]}]}"
      ]
     },
     "execution_count": 37,
     "metadata": {},
     "output_type": "execute_result"
    }
   ],
   "source": [
    "umm"
   ]
  },
  {
   "cell_type": "code",
   "execution_count": 42,
   "metadata": {},
   "outputs": [
    {
     "data": {
      "text/plain": [
       "dict_keys(['CollectionCitations', 'SpatialExtent', 'Distributions', 'CollectionProgress', 'ScienceKeywords', 'TemporalExtents', 'ProcessingLevel', 'ShortName', 'EntryTitle', 'RelatedUrls', 'ContactGroups', 'DataDates', 'Abstract', 'MetadataDates', 'Version', 'Projects', 'ContactPersons', 'DataCenters', 'Platforms'])"
      ]
     },
     "execution_count": 42,
     "metadata": {},
     "output_type": "execute_result"
    }
   ],
   "source": [
    "umm.keys()"
   ]
  },
  {
   "cell_type": "code",
   "execution_count": 58,
   "metadata": {},
   "outputs": [
    {
     "data": {
      "text/plain": [
       "{'SpatialCoverageType': 'HORIZONTAL',\n",
       " 'HorizontalSpatialDomain': {'Geometry': {'CoordinateSystem': 'CARTESIAN',\n",
       "   'BoundingRectangles': [{'WestBoundingCoordinate': -176.12,\n",
       "     'NorthBoundingCoordinate': 81.61,\n",
       "     'EastBoundingCoordinate': -66.92,\n",
       "     'SouthBoundingCoordinate': 39.42}]}},\n",
       " 'GranuleSpatialRepresentation': 'CARTESIAN'}"
      ]
     },
     "execution_count": 58,
     "metadata": {},
     "output_type": "execute_result"
    }
   ],
   "source": [
    "umm[\"SpatialExtent\"]"
   ]
  },
  {
   "cell_type": "code",
   "execution_count": 74,
   "metadata": {},
   "outputs": [
    {
     "name": "stdout",
     "output_type": "stream",
     "text": [
      "[{'WestBoundingCoordinate': -176.12, 'NorthBoundingCoordinate': 81.61, 'EastBoundingCoordinate': -66.92, 'SouthBoundingCoordinate': 39.42}]\n"
     ]
    }
   ],
   "source": [
    "try:\n",
    "    \n",
    "    # PUBLICATION\n",
    "    short_name = umm[\"ShortName\"]\n",
    "    title = umm[\"EntryTitle\"]\n",
    "    science_keywords = umm[\"ScienceKeywords\"]\n",
    "    \n",
    "    citation = umm[\"CollectionCitations\"][0][\"OtherCitationDetails\"]\n",
    "    doi = umm[\"CollectionCitations\"][0][\"DOI\"][\"DOI\"]\n",
    "    progress = umm[\"CollectionProgress\"]\n",
    "    \n",
    "    urls = umm[\"RelatedUrls\"]\n",
    "    \n",
    "    \n",
    "    # SPATIAL \n",
    "    spatial_extent = umm[\"SpatialExtent\"]\n",
    "    geometry = spatial_extent[\"HorizontalSpatialDomain\"][\"Geometry\"]\n",
    "    bounds = geometry[\"BoundingRectangles\"]\n",
    "    \n",
    "    min_lon = bounds[\"WestBoundingCoordinate\"]\n",
    "    max_lon = bounds[\"EastBoundingCoordinate\"]\n",
    "    min_lat = bounds[\"SouthBoundingCoordinate\"]\n",
    "    max_lat = bounds[\"NorthBoundingCoordinate\"]\n",
    "    \n",
    "    # TEMPORAL\n",
    "    range_time = umm[\"TemporalExtents\"][0][\"RangeDateTimes\"]\n",
    "    start_time = range_time[0][\"BeginningDateTime\"]\n",
    "    end_time = range_time[0][\"EndingDateTime\"]\n",
    "\n",
    "    \n",
    "\n",
    "    \n",
    "    \n",
    "    \n",
    "\n",
    "except:\n",
    "    \n",
    "    pass"
   ]
  },
  {
   "cell_type": "code",
   "execution_count": 80,
   "metadata": {},
   "outputs": [
    {
     "data": {
      "text/plain": [
       "[{'BeginningDateTime': '2014-01-01T00:00:00.000Z',\n",
       "  'EndingDateTime': '2021-12-31T23:59:59.000Z'}]"
      ]
     },
     "execution_count": 80,
     "metadata": {},
     "output_type": "execute_result"
    }
   ],
   "source": []
  },
  {
   "cell_type": "code",
   "execution_count": 92,
   "metadata": {},
   "outputs": [
    {
     "data": {
      "text/plain": [
       "[{'Description': 'This link allows direct data access via Earthdata login',\n",
       "  'URLs': ['https://daac.ornl.gov/daacdata/above/Maps_AGB_North_Slope_AK/'],\n",
       "  'Relation': ['GET DATA']},\n",
       " {'Description': 'ORNL DAAC Data Set Documentation',\n",
       "  'URLs': ['https://daac.ornl.gov/ABOVE/guides/Maps_AGB_North_Slope_AK.html'],\n",
       "  'Relation': ['VIEW RELATED INFORMATION', 'GENERAL DOCUMENTATION']},\n",
       " {'Description': 'Data set Landing Page DOI URL',\n",
       "  'URLs': ['https://doi.org/10.3334/ORNLDAAC/1565'],\n",
       "  'Relation': ['DATA SET LANDING PAGE']},\n",
       " {'Description': 'A PDF of the guide ',\n",
       "  'URLs': ['https://daac.ornl.gov/daacdata/above/Maps_AGB_North_Slope_AK/comp/Maps_AGB_North_Slope_AK.pdf'],\n",
       "  'Relation': ['VIEW RELATED INFORMATION', 'GENERAL DOCUMENTATION']},\n",
       " {'Description': 'A file in comma-separated 9.csv) format of the filed data',\n",
       "  'URLs': ['https://daac.ornl.gov/daacdata/above/Maps_AGB_North_Slope_AK/comp/Maps_AGB_North_Slope_AK_FieldSites.csv'],\n",
       "  'Relation': ['VIEW RELATED INFORMATION', 'GENERAL DOCUMENTATION']},\n",
       " {'Description': 'A file in KMZ format which provides the study site locations',\n",
       "  'URLs': ['https://daac.ornl.gov/daacdata/above/Maps_AGB_North_Slope_AK/comp/tundra_biomass_harvest_sites.kmz'],\n",
       "  'Relation': ['VIEW RELATED INFORMATION', 'GENERAL DOCUMENTATION']},\n",
       " {'Description': 'The best estimate (50th percentile) of 30-m shrub dominance (shrub/plant AGB) for non-water portions of the Beaufort Coastal Plain and Brooks Foothills ecoregions of the North Slope of Alaska.',\n",
       "  'URLs': ['https://daac.ornl.gov/ABOVE/guides/Maps_AGB_North_Slope_AK_Fig1.png'],\n",
       "  'Relation': ['GET RELATED VISUALIZATION']},\n",
       " {'Description': 'Web Coverage Service for this collection.',\n",
       "  'URLs': ['https://webmap.ornl.gov/wcsdown/dataset.jsp?ds_id=1565'],\n",
       "  'MimeType': 'application/gml+xml',\n",
       "  'Relation': ['GET SERVICE', 'WEB COVERAGE SERVICE (WCS)']}]"
      ]
     },
     "execution_count": 92,
     "metadata": {},
     "output_type": "execute_result"
    }
   ],
   "source": [
    "\n",
    "\n",
    "umm = above_datasets[\"items\"][20][\"umm\"]\n",
    "umm[\"RelatedUrls\"]"
   ]
  },
  {
   "cell_type": "code",
   "execution_count": 67,
   "metadata": {},
   "outputs": [
    {
     "data": {
      "text/plain": [
       "'ABoVE_Concise_Experiment_Plan_1617'"
      ]
     },
     "execution_count": 67,
     "metadata": {},
     "output_type": "execute_result"
    }
   ],
   "source": []
  },
  {
   "cell_type": "code",
   "execution_count": 68,
   "metadata": {},
   "outputs": [
    {
     "data": {
      "text/plain": [
       "'A Concise Experiment Plan for the Arctic-Boreal Vulnerability Experiment'"
      ]
     },
     "execution_count": 68,
     "metadata": {},
     "output_type": "execute_result"
    }
   ],
   "source": []
  },
  {
   "cell_type": "code",
   "execution_count": 84,
   "metadata": {},
   "outputs": [
    {
     "name": "stdout",
     "output_type": "stream",
     "text": [
      "['GET DATA']\n",
      "['VIEW RELATED INFORMATION', 'GENERAL DOCUMENTATION']\n",
      "['DATA SET LANDING PAGE']\n",
      "['VIEW RELATED INFORMATION', 'GENERAL DOCUMENTATION']\n",
      "['VIEW RELATED INFORMATION', 'GENERAL DOCUMENTATION']\n",
      "['VIEW RELATED INFORMATION', 'GENERAL DOCUMENTATION']\n",
      "['GET RELATED VISUALIZATION']\n"
     ]
    }
   ],
   "source": []
  },
  {
   "cell_type": "code",
   "execution_count": 85,
   "metadata": {},
   "outputs": [
    {
     "data": {
      "text/plain": [
       "{'Description': 'The Arctic-Boreal Vulnerability Experiment (ABoVE) is a NASA Terrestrial Ecology Program field campaign that will take place in Alaska and western Canada between 2016 and 2021.',\n",
       " 'URLs': ['https://daac.ornl.gov/ABOVE/guides/ABoVE_Concise_Experiment_Plan_Fig1.png'],\n",
       " 'Relation': ['GET RELATED VISUALIZATION']}"
      ]
     },
     "execution_count": 85,
     "metadata": {},
     "output_type": "execute_result"
    }
   ],
   "source": [
    "umm[\"RelatedUrls\"][-1]"
   ]
  },
  {
   "cell_type": "code",
   "execution_count": 71,
   "metadata": {},
   "outputs": [
    {
     "data": {
      "text/plain": [
       "[{'Type': 'In Situ Land-based Platforms',\n",
       "  'ShortName': 'FIELD INVESTIGATION',\n",
       "  'Instruments': [{'ShortName': 'Computer', 'LongName': 'Computer'}]}]"
      ]
     },
     "execution_count": 71,
     "metadata": {},
     "output_type": "execute_result"
    }
   ],
   "source": [
    "umm[\"Platforms\"]"
   ]
  },
  {
   "cell_type": "code",
   "execution_count": 72,
   "metadata": {},
   "outputs": [
    {
     "data": {
      "text/plain": [
       "\"This document presents the Concise Experiment Plan for NASA's Arctic-Boreal Vulnerability Experiment (ABoVE) to serve as a guide to the Program as it identifies the research to be conducted under this study. Research for ABoVE will link field-based, process-level studies with geospatial data products derived from airborne and satellite remote sensing, providing a foundation for improving the analysis and modeling capabilities needed to understand and predict ecosystem responses and societal implications. The ABoVE Concise Experiment Plan (ACEP) outlines the conceptual basis for the Field Campaign and expresses the compelling rationale explaining the scientific and societal importance of the study. It presents both the science questions driving ABoVE research as well as the top-level requirements for a study design to address them.\""
      ]
     },
     "execution_count": 72,
     "metadata": {},
     "output_type": "execute_result"
    }
   ],
   "source": [
    "umm[\"Abstract\"]"
   ]
  },
  {
   "cell_type": "code",
   "execution_count": null,
   "metadata": {},
   "outputs": [],
   "source": []
  },
  {
   "cell_type": "code",
   "execution_count": null,
   "metadata": {},
   "outputs": [],
   "source": []
  },
  {
   "cell_type": "code",
   "execution_count": null,
   "metadata": {},
   "outputs": [],
   "source": []
  },
  {
   "cell_type": "code",
   "execution_count": 47,
   "metadata": {},
   "outputs": [
    {
     "name": "stdout",
     "output_type": "stream",
     "text": [
      "81\n"
     ]
    }
   ],
   "source": [
    "above_core_datasets = []\n",
    "for d in above_datasets[\"items\"]:\n",
    "    if d[\"umm\"][\"Projects\"][0][\"ShortName\"]==\"ABoVE\":\n",
    "        above_core_datasets.append(d)\n",
    "\n",
    "print(len(above_core_datasets))"
   ]
  },
  {
   "cell_type": "code",
   "execution_count": 55,
   "metadata": {},
   "outputs": [
    {
     "name": "stdout",
     "output_type": "stream",
     "text": [
      "ORNL_DAAC\n",
      "NASA NSIDC DAAC\n",
      "NASA NSIDC DAAC\n",
      "ORNL_DAAC\n",
      "ORNL_DAAC\n",
      "ORNL_DAAC\n",
      "ORNL_DAAC\n",
      "ORNL_DAAC\n",
      "ORNL_DAAC\n",
      "ORNL_DAAC\n",
      "ORNL_DAAC\n",
      "ORNL_DAAC\n",
      "ORNL_DAAC\n",
      "ORNL_DAAC\n",
      "ORNL_DAAC\n",
      "ORNL_DAAC\n",
      "ORNL_DAAC\n",
      "ORNL_DAAC\n",
      "ORNL_DAAC\n",
      "ORNL_DAAC\n",
      "ORNL_DAAC\n",
      "ORNL_DAAC\n",
      "ORNL_DAAC\n",
      "ORNL_DAAC\n",
      "ORNL_DAAC\n",
      "ORNL_DAAC\n",
      "ORNL_DAAC\n",
      "ORNL_DAAC\n",
      "ORNL_DAAC\n",
      "ORNL_DAAC\n",
      "ORNL_DAAC\n",
      "ORNL_DAAC\n",
      "ORNL_DAAC\n",
      "ORNL_DAAC\n",
      "ORNL_DAAC\n",
      "ORNL_DAAC\n",
      "ORNL_DAAC\n",
      "ORNL_DAAC\n",
      "ORNL_DAAC\n",
      "ORNL_DAAC\n",
      "ORNL_DAAC\n",
      "ORNL_DAAC\n",
      "ORNL_DAAC\n",
      "ORNL_DAAC\n",
      "ORNL_DAAC\n",
      "ORNL_DAAC\n",
      "ORNL_DAAC\n",
      "ORNL_DAAC\n",
      "ORNL_DAAC\n",
      "ORNL_DAAC\n",
      "ORNL_DAAC\n",
      "ORNL_DAAC\n",
      "ORNL_DAAC\n",
      "ORNL_DAAC\n",
      "ORNL_DAAC\n",
      "ORNL_DAAC\n",
      "ORNL_DAAC\n",
      "ORNL_DAAC\n",
      "ORNL_DAAC\n",
      "ORNL_DAAC\n",
      "ORNL_DAAC\n",
      "ORNL_DAAC\n",
      "ORNL_DAAC\n",
      "ORNL_DAAC\n",
      "ORNL_DAAC\n",
      "ORNL_DAAC\n",
      "ORNL_DAAC\n",
      "ORNL_DAAC\n",
      "ORNL_DAAC\n",
      "ORNL_DAAC\n",
      "ORNL_DAAC\n",
      "ORNL_DAAC\n",
      "ORNL_DAAC\n",
      "ORNL_DAAC\n",
      "ORNL_DAAC\n",
      "ORNL_DAAC\n",
      "ORNL_DAAC\n",
      "ORNL_DAAC\n",
      "ORNL_DAAC\n",
      "ORNL_DAAC\n",
      "ORNL_DAAC\n"
     ]
    }
   ],
   "source": [
    "for d in above_core_datasets:\n",
    "    print(d[\"umm\"][\"DataCenters\"][0][\"ShortName\"])"
   ]
  },
  {
   "cell_type": "code",
   "execution_count": 8,
   "metadata": {},
   "outputs": [],
   "source": [
    "def updateme(*args, **kwargs):\n",
    "    \"\"\" \"\"\"\n",
    "    print(*args)\n",
    "    print(**kwargs)\n",
    "\n",
    "app.tab.on(handler=updateme, names=\"value\")"
   ]
  },
  {
   "cell_type": "code",
   "execution_count": 12,
   "metadata": {},
   "outputs": [
    {
     "data": {
      "text/plain": [
       "['__class__',\n",
       " '__delattr__',\n",
       " '__dict__',\n",
       " '__dir__',\n",
       " '__doc__',\n",
       " '__eq__',\n",
       " '__format__',\n",
       " '__ge__',\n",
       " '__getattribute__',\n",
       " '__gt__',\n",
       " '__hash__',\n",
       " '__init__',\n",
       " '__init_subclass__',\n",
       " '__le__',\n",
       " '__lt__',\n",
       " '__module__',\n",
       " '__ne__',\n",
       " '__new__',\n",
       " '__reduce__',\n",
       " '__reduce_ex__',\n",
       " '__repr__',\n",
       " '__setattr__',\n",
       " '__sizeof__',\n",
       " '__str__',\n",
       " '__subclasshook__',\n",
       " '__weakref__',\n",
       " '_base_url',\n",
       " '_build_url',\n",
       " '_format',\n",
       " '_route',\n",
       " '_valid_formats_regex',\n",
       " '_valid_state',\n",
       " 'bounding_box',\n",
       " 'cloud_cover',\n",
       " 'day_night_flag',\n",
       " 'downloadable',\n",
       " 'entry_title',\n",
       " 'format',\n",
       " 'get',\n",
       " 'get_all',\n",
       " 'granule_ur',\n",
       " 'hits',\n",
       " 'instrument',\n",
       " 'line',\n",
       " 'mode',\n",
       " 'online_only',\n",
       " 'options',\n",
       " 'orbit_number',\n",
       " 'parameters',\n",
       " 'params',\n",
       " 'platform',\n",
       " 'point',\n",
       " 'polygon',\n",
       " 'short_name',\n",
       " 'temporal',\n",
       " 'version']"
      ]
     },
     "execution_count": 12,
     "metadata": {},
     "output_type": "execute_result"
    }
   ],
   "source": [
    "dir(granules)"
   ]
  },
  {
   "cell_type": "code",
   "execution_count": null,
   "metadata": {},
   "outputs": [],
   "source": []
  },
  {
   "cell_type": "code",
   "execution_count": null,
   "metadata": {},
   "outputs": [],
   "source": []
  },
  {
   "cell_type": "code",
   "execution_count": null,
   "metadata": {},
   "outputs": [],
   "source": []
  },
  {
   "cell_type": "code",
   "execution_count": null,
   "metadata": {},
   "outputs": [],
   "source": []
  },
  {
   "cell_type": "code",
   "execution_count": null,
   "metadata": {},
   "outputs": [],
   "source": [
    "for index, row in app.union.iterrows():\n",
    "    print(index)\n",
    "    print(row[\"boxes\"])"
   ]
  },
  {
   "cell_type": "code",
   "execution_count": null,
   "metadata": {},
   "outputs": [],
   "source": [
    "above_results_df"
   ]
  },
  {
   "cell_type": "code",
   "execution_count": null,
   "metadata": {},
   "outputs": [],
   "source": []
  },
  {
   "cell_type": "code",
   "execution_count": null,
   "metadata": {},
   "outputs": [],
   "source": []
  },
  {
   "cell_type": "code",
   "execution_count": null,
   "metadata": {},
   "outputs": [],
   "source": [
    "app.selected_collections.iloc[0]"
   ]
  },
  {
   "cell_type": "code",
   "execution_count": null,
   "metadata": {},
   "outputs": [],
   "source": [
    "for i,r in app.selected_collections.items():\n",
    "    print(i[\"datasse\"])\n",
    "    print(r)\n"
   ]
  },
  {
   "cell_type": "code",
   "execution_count": null,
   "metadata": {},
   "outputs": [],
   "source": [
    "\n"
   ]
  },
  {
   "cell_type": "code",
   "execution_count": null,
   "metadata": {},
   "outputs": [],
   "source": [
    "for i, r in app.selected_collections.iterrows():\n",
    "    print(i)\n",
    "    print(r)"
   ]
  },
  {
   "cell_type": "code",
   "execution_count": null,
   "metadata": {
    "scrolled": false
   },
   "outputs": [],
   "source": [
    "#above_datasets = collections.keyword(\"*ABoVE*\").get_all()\n",
    "\n",
    "#print(len(above_datasets))\n",
    "print(json.dumps(above_datasets[0], indent=4))\n",
    "\n",
    "#for d in above_datasets:\n",
    "#    print(d[\"dataset_id\"])"
   ]
  },
  {
   "cell_type": "code",
   "execution_count": null,
   "metadata": {},
   "outputs": [],
   "source": []
  },
  {
   "cell_type": "code",
   "execution_count": null,
   "metadata": {},
   "outputs": [],
   "source": [
    "app.map.layers[2].layers[0].clear_layers()"
   ]
  },
  {
   "cell_type": "code",
   "execution_count": null,
   "metadata": {},
   "outputs": [],
   "source": [
    "app.union.to_wkt()"
   ]
  },
  {
   "cell_type": "code",
   "execution_count": null,
   "metadata": {},
   "outputs": [],
   "source": [
    "x,y = "
   ]
  },
  {
   "cell_type": "code",
   "execution_count": null,
   "metadata": {},
   "outputs": [],
   "source": []
  },
  {
   "cell_type": "code",
   "execution_count": null,
   "metadata": {},
   "outputs": [],
   "source": [
    "y"
   ]
  },
  {
   "cell_type": "code",
   "execution_count": null,
   "metadata": {},
   "outputs": [],
   "source": [
    "dir(app.union.exterior.coords)"
   ]
  },
  {
   "cell_type": "code",
   "execution_count": null,
   "metadata": {},
   "outputs": [],
   "source": []
  },
  {
   "cell_type": "code",
   "execution_count": null,
   "metadata": {},
   "outputs": [],
   "source": []
  },
  {
   "cell_type": "code",
   "execution_count": null,
   "metadata": {},
   "outputs": [],
   "source": []
  },
  {
   "cell_type": "code",
   "execution_count": null,
   "metadata": {},
   "outputs": [],
   "source": []
  },
  {
   "cell_type": "code",
   "execution_count": null,
   "metadata": {},
   "outputs": [],
   "source": []
  },
  {
   "cell_type": "code",
   "execution_count": null,
   "metadata": {},
   "outputs": [],
   "source": []
  },
  {
   "cell_type": "code",
   "execution_count": null,
   "metadata": {},
   "outputs": [],
   "source": []
  },
  {
   "cell_type": "code",
   "execution_count": null,
   "metadata": {},
   "outputs": [],
   "source": []
  },
  {
   "cell_type": "code",
   "execution_count": null,
   "metadata": {},
   "outputs": [],
   "source": []
  },
  {
   "cell_type": "code",
   "execution_count": null,
   "metadata": {},
   "outputs": [],
   "source": []
  },
  {
   "cell_type": "code",
   "execution_count": null,
   "metadata": {
    "scrolled": false
   },
   "outputs": [],
   "source": [
    "from CMR import CollectionQuery, GranuleQuery\n",
    "\n",
    "collections = CollectionQuery()\n",
    "granules = GranuleQuery()"
   ]
  },
  {
   "cell_type": "code",
   "execution_count": null,
   "metadata": {
    "scrolled": false
   },
   "outputs": [],
   "source": [
    "ornlabovedf = query_ornl_projects()\n",
    "ornlabovedf.head()"
   ]
  },
  {
   "cell_type": "code",
   "execution_count": null,
   "metadata": {},
   "outputs": [],
   "source": [
    "boxes = ornlabovedf.boxes\n",
    "boxes[:5]"
   ]
  },
  {
   "cell_type": "code",
   "execution_count": null,
   "metadata": {},
   "outputs": [],
   "source": [
    "\n",
    "\n",
    "\n",
    "\n",
    "#text_box = \n",
    "#text_box"
   ]
  },
  {
   "cell_type": "code",
   "execution_count": null,
   "metadata": {},
   "outputs": [],
   "source": [
    "\n",
    "\n",
    "shape(test_geojson)\n",
    "    \n",
    "    \n",
    "    \n",
    "    \n",
    "   def CMR_box_to_geojson(box, id=0):\n",
    "    \"\"\" \"\"\"\n",
    "    \n",
    "    box = box.split(\" \")\n",
    "    \n",
    "    ll = [box[1], box[0]]\n",
    "    lr = [box[3], box[0]]\n",
    "    ur = [box[3], box[2]]\n",
    "    ul = [box[1], box[2]]\n",
    "\n",
    "    polygon = {\"type\": \"Polygon\", \"coordinates\": [ll, lr, ur,ul, ll]}\n",
    "\n",
    "    return(polygon) \n",
    "    "
   ]
  },
  {
   "cell_type": "code",
   "execution_count": null,
   "metadata": {},
   "outputs": [],
   "source": [
    "def geojson_intersect_cmr_box(selection_geojson, cmr_box):\n",
    "    \"\"\" \"\"\"\n",
    "    \n",
    "    selection_geom = shape(selection_geojson)\n",
    "    cmr_geom = shape(cmr_box)"
   ]
  },
  {
   "cell_type": "code",
   "execution_count": null,
   "metadata": {},
   "outputs": [],
   "source": [
    "print(\"Number of ABoVE datasets at ORNL DAAC:\"+str(len(above)))\n",
    "print(print(json.dumps(above[0], indent=4)))"
   ]
  }
 ],
 "metadata": {
  "kernelspec": {
   "display_name": "Python 3",
   "language": "python",
   "name": "python3"
  },
  "language_info": {
   "codemirror_mode": {
    "name": "ipython",
    "version": 3
   },
   "file_extension": ".py",
   "mimetype": "text/x-python",
   "name": "python",
   "nbconvert_exporter": "python",
   "pygments_lexer": "ipython3",
   "version": "3.7.1"
  }
 },
 "nbformat": 4,
 "nbformat_minor": 2
}
