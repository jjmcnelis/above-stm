{
 "cells": [
  {
   "cell_type": "markdown",
   "metadata": {},
   "source": [
    "# Interactively Browse CMR Records for ABoVE Collections & Granules\n",
    "\n",
    "NASA's **Common Metadata Repository (CMR)** is a metadata system that catalogs all data and service metadata records for NASA's Earth Observing System Data and Information System (EOSDIS). This notebook is for browsing the metadata records for ABoVE **Collections** and **Granules**, EOSDIS lingo for datasets and data files. Read more about CMR here:             \n",
    "https://earthdata.nasa.gov/about/science-system-description/eosdis-components/common-metadata-repository\n",
    "\n",
    "This notebook doesn't rely on live queries to CMR. Rather, it references a few tables that were generated beforehand and saved to binary files using Python's `pickle` module:\n",
    "* **ABoVE Collections** (data/above_dataset_table.pkl): dataset records in CMR as 2019-05-12\n",
    "* **ABoVE Granules** (data/above_granules_table.pkl): data file records in CMR as 2019-05-12\n",
    "* **ABoVE Grid Table** (data/above_grid_table_ab.pkl): table that links the two previous tables to ABoVE grid cells using a spatial intersection routine\n",
    "\n",
    "Please refer to [this Jupyter Notebook (dev/build-cmr-tables.ipynb)](dev/build-cmr-tables.ipynb) if you're interested in learning about the process for building the tables.\n",
    "\n",
    "## Run to launch the widget:"
   ]
  },
  {
   "cell_type": "code",
   "execution_count": 1,
   "metadata": {
    "scrolled": false
   },
   "outputs": [
    {
     "data": {
      "application/vnd.jupyter.widget-view+json": {
       "model_id": "dd1a9c46942b40858d3763b7c40118d8",
       "version_major": 2,
       "version_minor": 0
      },
      "text/plain": [
       "VBox(children=(Map(basemap={'url': 'https://{s}.tile.openstreetmap.org/{z}/{x}/{y}.png', 'max_zoom': 19, 'attr…"
      ]
     },
     "metadata": {},
     "output_type": "display_data"
    },
    {
     "name": "stdout",
     "output_type": "stream",
     "text": [
      "TESTING\n"
     ]
    }
   ],
   "source": [
    "from ABoVE import *"
   ]
  },
  {
   "cell_type": "code",
   "execution_count": null,
   "metadata": {},
   "outputs": [],
   "source": []
  },
  {
   "cell_type": "code",
   "execution_count": null,
   "metadata": {},
   "outputs": [],
   "source": []
  },
  {
   "cell_type": "code",
   "execution_count": null,
   "metadata": {},
   "outputs": [],
   "source": [
    "test = granule_locator_table.loc[granule_locator_table[\"collection_short_name\"]==\"ABoVE_Open_Water_Map_1643\"]\n",
    "test"
   ]
  },
  {
   "cell_type": "code",
   "execution_count": null,
   "metadata": {},
   "outputs": [],
   "source": []
  },
  {
   "cell_type": "code",
   "execution_count": null,
   "metadata": {},
   "outputs": [],
   "source": []
  },
  {
   "cell_type": "code",
   "execution_count": null,
   "metadata": {},
   "outputs": [],
   "source": [
    "above"
   ]
  },
  {
   "cell_type": "code",
   "execution_count": null,
   "metadata": {},
   "outputs": [],
   "source": []
  },
  {
   "cell_type": "code",
   "execution_count": null,
   "metadata": {},
   "outputs": [],
   "source": []
  },
  {
   "cell_type": "code",
   "execution_count": null,
   "metadata": {},
   "outputs": [],
   "source": []
  },
  {
   "cell_type": "code",
   "execution_count": null,
   "metadata": {},
   "outputs": [],
   "source": []
  },
  {
   "cell_type": "code",
   "execution_count": null,
   "metadata": {},
   "outputs": [],
   "source": []
  },
  {
   "cell_type": "code",
   "execution_count": null,
   "metadata": {},
   "outputs": [],
   "source": []
  },
  {
   "cell_type": "code",
   "execution_count": null,
   "metadata": {},
   "outputs": [],
   "source": []
  },
  {
   "cell_type": "code",
   "execution_count": null,
   "metadata": {},
   "outputs": [],
   "source": [
    "\n",
    "def update_rendered_granule_table(granule_selection_table):\n",
    "    \"\"\" \"\"\"\n",
    "\n",
    "    # make new qgrids\n",
    "    table_qgrid = get_qgrid(\n",
    "        granule_selection_table, \n",
    "        \"granuleid\", \n",
    "        granule_column_definitions)\n",
    "    #table_qgrid.on(\n",
    "    #    'selection_changed', \n",
    "    #    handle_dataset_table_select)\n",
    "\n",
    "    output_containers.selected_index = 1 \n",
    "    output_granules.clear_output()\n",
    "    with output_granules:\n",
    "        display(granules_results_header)\n",
    "        display(table_qgrid)\n",
    "\n",
    "\n",
    "def handle_dataset_table_select(event, qgrid_widget):\n",
    "    \"\"\" \"\"\"\n",
    "\n",
    "    print(test)\n",
    "    rownum = qgrid_widget.get_selected_df()\n",
    "    print(rownum)\n",
    "\n",
    "    rowdf = qgrid_widget.get_selected_df()\n",
    "    index = rowdf[\"title\"]\n",
    "    #granules = granule_locator_table.loc[granule_locator_table[\"title\"]==index]\n",
    "    output_containers.selected_index = 1 \n",
    "    with output_granules:\n",
    "        display(granules_results_header)\n",
    "        display(index)\n",
    "\n",
    "    #granules1 = granules[[\"granuleid\",\"url_datapool\"]]\n",
    "\n",
    "    #update_rendered_granule_table(granules1)\n",
    "\n",
    "\n",
    "def update_rendered_dataset_table(dataset_selection_table):\n",
    "    \"\"\" \"\"\"\n",
    "\n",
    "    # make new qgrids\n",
    "    table_qgrid = get_qgrid(\n",
    "        dataset_selection_table, \n",
    "        \"title\", \n",
    "        dataset_column_definitions)\n",
    "    table_qgrid.on(\n",
    "        'selection_changed', \n",
    "        handle_dataset_table_select)\n",
    "\n",
    "    output_containers.selected_index = 0    \n",
    "    output_datasets.clear_output()\n",
    "    with output_datasets:\n",
    "        display(dataset_results_header)\n",
    "        display(table_qgrid)\n",
    "\n"
   ]
  },
  {
   "cell_type": "code",
   "execution_count": null,
   "metadata": {},
   "outputs": [],
   "source": [
    "from ipywidgets import Accordion"
   ]
  },
  {
   "cell_type": "code",
   "execution_count": null,
   "metadata": {},
   "outputs": [],
   "source": [
    "accordion = Accordion(children=[HTML(\"Datasets\"), HTML(\"Granules\")])\n",
    "accordion.selected_index = None\n",
    "accordion.set_title(0, 'Slider')\n",
    "accordion.set_title(1, 'Text')\n",
    "accordion"
   ]
  },
  {
   "cell_type": "code",
   "execution_count": null,
   "metadata": {},
   "outputs": [],
   "source": [
    "accordion.selected_index = 0"
   ]
  },
  {
   "cell_type": "code",
   "execution_count": null,
   "metadata": {},
   "outputs": [],
   "source": []
  },
  {
   "cell_type": "code",
   "execution_count": null,
   "metadata": {},
   "outputs": [],
   "source": []
  },
  {
   "cell_type": "code",
   "execution_count": null,
   "metadata": {},
   "outputs": [],
   "source": []
  },
  {
   "cell_type": "code",
   "execution_count": null,
   "metadata": {},
   "outputs": [],
   "source": []
  },
  {
   "cell_type": "code",
   "execution_count": null,
   "metadata": {},
   "outputs": [],
   "source": []
  },
  {
   "cell_type": "code",
   "execution_count": null,
   "metadata": {},
   "outputs": [],
   "source": []
  },
  {
   "cell_type": "code",
   "execution_count": null,
   "metadata": {},
   "outputs": [],
   "source": []
  },
  {
   "cell_type": "code",
   "execution_count": null,
   "metadata": {},
   "outputs": [],
   "source": []
  },
  {
   "cell_type": "code",
   "execution_count": null,
   "metadata": {},
   "outputs": [],
   "source": []
  },
  {
   "cell_type": "code",
   "execution_count": null,
   "metadata": {},
   "outputs": [],
   "source": []
  },
  {
   "cell_type": "code",
   "execution_count": null,
   "metadata": {},
   "outputs": [],
   "source": []
  },
  {
   "cell_type": "markdown",
   "metadata": {},
   "source": [
    "## generate map grid polygon layers"
   ]
  },
  {
   "cell_type": "code",
   "execution_count": null,
   "metadata": {},
   "outputs": [],
   "source": [
    "def get_qgrid(df, index=\"title\"):\n",
    "    \"\"\" \"\"\"\n",
    "    \n",
    "    df.set_index(index, inplace=True)\n",
    "    tab = qgrid.show_grid(\n",
    "        df,\n",
    "        column_definitions={\n",
    "            \"title\": {\"width\": 600},\n",
    "            \"start_time\": {\"width\": 150},\n",
    "            \"end_time\": {\"width\": 150}},\n",
    "        grid_options={\n",
    "            'forceFitColumns': False,\n",
    "            \"maxVisibleRows\": 8},\n",
    "        show_toolbar=False)\n",
    "\n",
    "    return(tab)\n",
    "\n",
    "\n",
    "# ---------------------------------------------------------------------------\n",
    "\n",
    "def update_cell_clicked(*args, **kwargs):\n",
    "    \"\"\" \"\"\"\n",
    "    draw_control.clear()\n",
    "\n",
    "    if \"properties\" in kwargs.keys():\n",
    "        on = kwargs[\"properties\"][\"grid_id\"]\n",
    "\n",
    "        datasets1, granules1, shapelies1 = get_by_tiles([on])\n",
    "        tab = get_qgrid(datasets1)\n",
    "\n",
    "        # make layer that represents selected cell and add to selected_layer\n",
    "        selected_layer.clear_layers()\n",
    "        x,y = shapelies1[0].exterior.coords.xy\n",
    "        selected_layer.add_layer(Polygon(locations=list(zip(y,x))))\n",
    "        centroid = shapelies1[0].centroid\n",
    "        mapw.center = (centroid.y, centroid.x)\n",
    "\n",
    "        output.clear_output()\n",
    "        with output:\n",
    "            display(dataset_results_header)\n",
    "            display(tab)\n",
    "\n",
    "\n",
    "# ---------------------------------------------------------------------------\n",
    "\n",
    "\n",
    "def update_poly_drawn(*args, **kwargs):\n",
    "    \"\"\" \"\"\"\n",
    "  \n",
    "    draw_control.clear()                       # clear draw, selection layers\n",
    "\n",
    "    if \"geo_json\" in kwargs.keys():\n",
    "       \n",
    "        drawn_json = kwargs[\"geo_json\"]        # make shapely from geojson \n",
    "        shapely_geom = shape(drawn_json[\"geometry\"])\n",
    "        cells = grid_dict\n",
    "\n",
    "        # iterate over cells and collect intersecting cells\n",
    "        on, shapes = [], []\n",
    "        for id, cell in cells.items():\n",
    "            if shapely_geom.intersects(cell.shape):\n",
    "                on.append(id)\n",
    "                shapes.append(cell.shape)\n",
    "    \n",
    "        # get the union of all of the cells that are toggled on\n",
    "        union = cascaded_union(shapes)\n",
    "        centroid = union.centroid\n",
    "\n",
    "        # make layer that represents selected cells and add to selected_layer\n",
    "        selected_layer.clear_layers()\n",
    "        x,y = union.exterior.coords.xy\n",
    "        selected_layer.add_layer(Polygon(locations=list(zip(y,x))))\n",
    "        mapw.center = (centroid.y, centroid.x)\n",
    "    \n",
    "        # get datasets and granules and display table(s)\n",
    "        datasets1, granules1, shapelies1 = get_by_tiles(on)\n",
    "        tab = get_qgrid(datasets1)\n",
    "\n",
    "        output.clear_output()\n",
    "        with output:\n",
    "            display(dataset_results_header)\n",
    "            display(tab)\n",
    "\n",
    "    else:\n",
    "        \n",
    "        print(\"Nothing happened.\")"
   ]
  },
  {
   "cell_type": "code",
   "execution_count": null,
   "metadata": {},
   "outputs": [],
   "source": [
    "# generate map grid polygon layers\n",
    "grid_layers = LayerGroup()\n",
    "grid_dict = {}\n",
    "\n",
    "for feat in above_grid[\"features\"]:\n",
    "    level = feat[\"properties\"][\"grid_level\"]\n",
    "    if level==\"B\":\n",
    "        Cell_object = Cell(feat) \n",
    "        Cell_object.layer.on_click(update_cell_clicked)\n",
    "        grid_id = Cell_object.id\n",
    "        grid_dict[grid_id] = Cell_object\n",
    "        grid_layers.add_layer(grid_dict[grid_id].layer)\n",
    "\n",
    "# make an attribute that will hold selected layer\n",
    "selected_layer = LayerGroup()\n",
    "\n",
    "mapw = Map(\n",
    "    layers=(esri, grid_layers, selected_layer, ),\n",
    "    center=(65, -100), \n",
    "    zoom=3, \n",
    "    width=\"auto\", \n",
    "    height=\"auto\",\n",
    "    scroll_wheel_zoom=True)\n",
    "\n",
    "# map draw controls\n",
    "draw_control = DrawControl()\n",
    "draw_control.polyline =  {}\n",
    "draw_control.circle = {}\n",
    "draw_control.circlemarker = {}\n",
    "draw_control.remove = False\n",
    "draw_control.edit = False\n",
    "draw_control.polygon = {**draw_style}\n",
    "draw_control.rectangle = {**draw_style}\n",
    "draw_control.on_draw(update_poly_drawn)\n",
    "mapw.add_control(draw_control)\n",
    "\n",
    "# output display\n",
    "output = Output(layout=Layout(width=\"auto\", height=\"auto\"))\n",
    "\n",
    "# make the widget layout\n",
    "ui = VBox([map_header, mapw, output], layout=Layout(width=\"auto\"))\n",
    "\n",
    "# display ui\n",
    "display(ui)"
   ]
  }
 ],
 "metadata": {
  "kernelspec": {
   "display_name": "Python 3",
   "language": "python",
   "name": "python3"
  },
  "language_info": {
   "codemirror_mode": {
    "name": "ipython",
    "version": 3
   },
   "file_extension": ".py",
   "mimetype": "text/x-python",
   "name": "python",
   "nbconvert_exporter": "python",
   "pygments_lexer": "ipython3",
   "version": "3.7.1"
  }
 },
 "nbformat": 4,
 "nbformat_minor": 2
}
