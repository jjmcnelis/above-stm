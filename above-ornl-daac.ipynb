{
 "cells": [
  {
   "cell_type": "markdown",
   "metadata": {},
   "source": [
    "# Interactively Browse CMR Records for ABoVE Collections & Granules\n",
    "\n",
    "NASA's **Common Metadata Repository (CMR)** is a metadata system that catalogs all data and service metadata records for NASA's Earth Observing System Data and Information System (EOSDIS). This notebook let's you browse metadata records for ABoVE *Collections* and *Granules*, EOSDIS lingo for datasets and data files. Read more about CMR here:             \n",
    "https://earthdata.nasa.gov/about/science-system-description/eosdis-components/common-metadata-repository\n",
    "\n",
    "This notebook doesn't rely on live queries to CMR. Rather, it references a few tables that were generated beforehand and saved to binary files using Python's `pickle` module:\n",
    "* **ABoVE Collections** (data/above_dataset_table.pkl): dataset records in CMR as 2019-05-12\n",
    "* **ABoVE Granules** (data/above_granules_table.pkl): data file records in CMR as 2019-05-12\n",
    "* **ABoVE Grid** (data/above_grid_table_ab.pkl): table that links the two previous tables to ABoVE grid cells using a spatial intersection routine\n",
    "\n",
    "Please refer to [this Jupyter Notebook (dev/build-cmr-tables.ipynb)](dev/build-cmr-tables.ipynb) if you're interested in learning about the process for building the tables.\n",
    "\n",
    "### Hint: Datasets and granules arranged, categorized within the ABoVE grid allow DAACs to better integrate them with our tools and services. This dataset does a nice job (ABoVE Fire Severity; Loboda et al. 2018):\n",
    "![browse_image](docs/browse_image1.PNG)\n",
    "## Run the cell below to launch the widget:\n",
    "* The opened tab (**CMR Datasets** or **CMR Granules**; beneath the map) determines which type of search results are presented.\n",
    "* Clicking a dataset in the table under **CMR Datasets** will display the dataset's granules.\n",
    "* Clicking granule(s) in the table under **CMR Granules** will display the extent(s) on the map."
   ]
  },
  {
   "cell_type": "code",
   "execution_count": 1,
   "metadata": {
    "scrolled": false
   },
   "outputs": [
    {
     "data": {
      "application/vnd.jupyter.widget-view+json": {
       "model_id": "0e9931392adb4235b3d8f7216624fa69",
       "version_major": 2,
       "version_minor": 0
      },
      "text/plain": [
       "VBox(children=(Map(basemap={'url': 'https://{s}.tile.openstreetmap.org/{z}/{x}/{y}.png', 'max_zoom': 19, 'attr…"
      ]
     },
     "metadata": {},
     "output_type": "display_data"
    }
   ],
   "source": [
    "from ABoVE import *"
   ]
  },
  {
   "cell_type": "markdown",
   "metadata": {},
   "source": [
    "# Now, show how that works:\n",
    "* Requesting metadata records in JSON format from CMR\n",
    "* Generating vector objects for collection and granule bounding boxes\n",
    "* Selecting collections and granules through geographic intersection\n",
    "* Downloading in Python"
   ]
  }
 ],
 "metadata": {
  "kernelspec": {
   "display_name": "Python 3",
   "language": "python",
   "name": "python3"
  },
  "language_info": {
   "codemirror_mode": {
    "name": "ipython",
    "version": 3
   },
   "file_extension": ".py",
   "mimetype": "text/x-python",
   "name": "python",
   "nbconvert_exporter": "python",
   "pygments_lexer": "ipython3",
   "version": "3.7.1"
  }
 },
 "nbformat": 4,
 "nbformat_minor": 2
}
