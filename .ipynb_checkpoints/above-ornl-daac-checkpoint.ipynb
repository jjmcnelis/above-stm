{
 "cells": [
  {
   "cell_type": "markdown",
   "metadata": {},
   "source": [
    "# Interactively Search CMR for  ABoVE Collections & Granules\n",
    "\n",
    "https://above.nasa.gov/implementation_plan/standard_projection.html#reference\n",
    "\n",
    "`![ABoVE Grid AB](https://above.nasa.gov/images/standard_projection_image_20170621.png)`"
   ]
  },
  {
   "cell_type": "code",
   "execution_count": 1,
   "metadata": {
    "scrolled": false
   },
   "outputs": [
    {
     "data": {
      "application/vnd.jupyter.widget-view+json": {
       "model_id": "250781368624496e93929b8a056027ed",
       "version_major": 2,
       "version_minor": 0
      },
      "text/plain": [
       "VBox(children=(Map(basemap={'url': 'https://{s}.tile.openstreetmap.org/{z}/{x}/{y}.png', 'max_zoom': 19, 'attr…"
      ]
     },
     "metadata": {},
     "output_type": "display_data"
    }
   ],
   "source": [
    "from ABoVE import *"
   ]
  },
  {
   "cell_type": "code",
   "execution_count": 7,
   "metadata": {},
   "outputs": [
    {
     "ename": "TypeError",
     "evalue": "'dict' object is not callable",
     "output_type": "error",
     "traceback": [
      "\u001b[0;31m---------------------------------------------------------------------------\u001b[0m",
      "\u001b[0;31mTypeError\u001b[0m                                 Traceback (most recent call last)",
      "\u001b[0;32m<ipython-input-7-eebafdd484ff>\u001b[0m in \u001b[0;36m<module>\u001b[0;34m\u001b[0m\n\u001b[0;32m----> 1\u001b[0;31m \u001b[0mgranules\u001b[0m\u001b[0;34m.\u001b[0m\u001b[0mparams\u001b[0m\u001b[0;34m(\u001b[0m\u001b[0mproject\u001b[0m\u001b[0;34m=\u001b[0m\u001b[0;34m\"ABoVE\"\u001b[0m\u001b[0;34m)\u001b[0m\u001b[0;34m\u001b[0m\u001b[0;34m\u001b[0m\u001b[0m\n\u001b[0m",
      "\u001b[0;31mTypeError\u001b[0m: 'dict' object is not callable"
     ]
    }
   ],
   "source": [
    "#granules.params(project=\"ABoVE\")"
   ]
  },
  {
   "cell_type": "code",
   "execution_count": 4,
   "metadata": {},
   "outputs": [
    {
     "data": {
      "text/plain": [
       "['__class__',\n",
       " '__del__',\n",
       " '__delattr__',\n",
       " '__dict__',\n",
       " '__dir__',\n",
       " '__doc__',\n",
       " '__eq__',\n",
       " '__format__',\n",
       " '__ge__',\n",
       " '__getattribute__',\n",
       " '__getstate__',\n",
       " '__gt__',\n",
       " '__hash__',\n",
       " '__init__',\n",
       " '__init_subclass__',\n",
       " '__le__',\n",
       " '__lt__',\n",
       " '__module__',\n",
       " '__ne__',\n",
       " '__new__',\n",
       " '__reduce__',\n",
       " '__reduce_ex__',\n",
       " '__repr__',\n",
       " '__setattr__',\n",
       " '__setstate__',\n",
       " '__sizeof__',\n",
       " '__str__',\n",
       " '__subclasshook__',\n",
       " '__weakref__',\n",
       " '_add_notifiers',\n",
       " '_add_row',\n",
       " '_append_condition_for_column',\n",
       " '_call_widget_constructed',\n",
       " '_change_selection',\n",
       " '_columns',\n",
       " '_comm_changed',\n",
       " '_compare',\n",
       " '_cross_validation_lock',\n",
       " '_default_keys',\n",
       " '_df',\n",
       " '_df_changed',\n",
       " '_df_json',\n",
       " '_df_range',\n",
       " '_disable_grouping',\n",
       " '_display_callbacks',\n",
       " '_dom_classes',\n",
       " '_duplicate_last_row',\n",
       " '_editable_rows',\n",
       " '_edited',\n",
       " '_filter_tables',\n",
       " '_gen_repr_from_keys',\n",
       " '_get_col_series_from_df',\n",
       " '_get_embed_state',\n",
       " '_grid_options_changed',\n",
       " '_grid_options_default',\n",
       " '_handle_change_filter',\n",
       " '_handle_custom_msg',\n",
       " '_handle_displayed',\n",
       " '_handle_msg',\n",
       " '_handle_qgrid_msg',\n",
       " '_handle_qgrid_msg_helper',\n",
       " '_handle_show_filter_dropdown',\n",
       " '_handlers',\n",
       " '_holding_sync',\n",
       " '_ignore_df_changed',\n",
       " '_index_col_name',\n",
       " '_initialize_sort_column',\n",
       " '_initialized',\n",
       " '_interval_columns',\n",
       " '_ipython_display_',\n",
       " '_is_numpy',\n",
       " '_lock_property',\n",
       " '_log_default',\n",
       " '_model_id',\n",
       " '_model_module',\n",
       " '_model_module_version',\n",
       " '_model_name',\n",
       " '_msg_callbacks',\n",
       " '_multi_index',\n",
       " '_notify_listeners',\n",
       " '_notify_trait',\n",
       " '_period_columns',\n",
       " '_precision_changed',\n",
       " '_precision_default',\n",
       " '_primary_key',\n",
       " '_primary_key_display',\n",
       " '_property_lock',\n",
       " '_rebuild_widget',\n",
       " '_register_validator',\n",
       " '_remove_notifiers',\n",
       " '_remove_rows',\n",
       " '_repr_keys',\n",
       " '_row_count',\n",
       " '_row_styles',\n",
       " '_selected_rows',\n",
       " '_send',\n",
       " '_set_col_series_on_df',\n",
       " '_should_send_property',\n",
       " '_show_toolbar_changed',\n",
       " '_show_toolbar_default',\n",
       " '_sort_ascending',\n",
       " '_sort_col_suffix',\n",
       " '_sort_field',\n",
       " '_sort_helper_columns',\n",
       " '_sorted_column_cache',\n",
       " '_states_to_send',\n",
       " '_string_columns',\n",
       " '_trait_default_generators',\n",
       " '_trait_from_json',\n",
       " '_trait_notifiers',\n",
       " '_trait_to_json',\n",
       " '_trait_validators',\n",
       " '_trait_values',\n",
       " '_unfiltered_df',\n",
       " '_update_df',\n",
       " '_update_sort',\n",
       " '_update_table',\n",
       " '_view_count',\n",
       " '_view_module',\n",
       " '_view_module_version',\n",
       " '_view_name',\n",
       " '_viewport_range',\n",
       " '_widget_construction_callback',\n",
       " 'add_class',\n",
       " 'add_row',\n",
       " 'add_traits',\n",
       " 'change_grid_option',\n",
       " 'change_selection',\n",
       " 'class_own_trait_events',\n",
       " 'class_own_traits',\n",
       " 'class_trait_names',\n",
       " 'class_traits',\n",
       " 'close',\n",
       " 'close_all',\n",
       " 'column_definitions',\n",
       " 'column_options',\n",
       " 'comm',\n",
       " 'cross_validation_lock',\n",
       " 'df',\n",
       " 'edit_cell',\n",
       " 'get_changed_df',\n",
       " 'get_manager_state',\n",
       " 'get_selected_df',\n",
       " 'get_selected_rows',\n",
       " 'get_state',\n",
       " 'get_view_spec',\n",
       " 'grid_options',\n",
       " 'handle_comm_opened',\n",
       " 'has_trait',\n",
       " 'hold_sync',\n",
       " 'hold_trait_notifications',\n",
       " 'id',\n",
       " 'keys',\n",
       " 'layout',\n",
       " 'log',\n",
       " 'model_id',\n",
       " 'notify_change',\n",
       " 'observe',\n",
       " 'off',\n",
       " 'on',\n",
       " 'on_displayed',\n",
       " 'on_msg',\n",
       " 'on_trait_change',\n",
       " 'on_widget_constructed',\n",
       " 'open',\n",
       " 'precision',\n",
       " 'remove_class',\n",
       " 'remove_row',\n",
       " 'remove_rows',\n",
       " 'row_edit_callback',\n",
       " 'send',\n",
       " 'send_state',\n",
       " 'set_state',\n",
       " 'set_trait',\n",
       " 'setup_instance',\n",
       " 'show_toolbar',\n",
       " 'toggle_editable',\n",
       " 'trait_events',\n",
       " 'trait_metadata',\n",
       " 'trait_names',\n",
       " 'traits',\n",
       " 'unobserve',\n",
       " 'unobserve_all',\n",
       " 'widget_types',\n",
       " 'widgets']"
      ]
     },
     "execution_count": 4,
     "metadata": {},
     "output_type": "execute_result"
    }
   ],
   "source": [
    "dir(app.tab)"
   ]
  },
  {
   "cell_type": "code",
   "execution_count": null,
   "metadata": {},
   "outputs": [],
   "source": []
  },
  {
   "cell_type": "code",
   "execution_count": null,
   "metadata": {},
   "outputs": [],
   "source": []
  },
  {
   "cell_type": "code",
   "execution_count": null,
   "metadata": {},
   "outputs": [],
   "source": []
  },
  {
   "cell_type": "code",
   "execution_count": null,
   "metadata": {},
   "outputs": [],
   "source": []
  },
  {
   "cell_type": "code",
   "execution_count": null,
   "metadata": {},
   "outputs": [],
   "source": [
    "for index, row in app.union.iterrows():\n",
    "    print(index)\n",
    "    print(row[\"boxes\"])"
   ]
  },
  {
   "cell_type": "code",
   "execution_count": null,
   "metadata": {},
   "outputs": [],
   "source": [
    "above_results_df"
   ]
  },
  {
   "cell_type": "code",
   "execution_count": null,
   "metadata": {},
   "outputs": [],
   "source": []
  },
  {
   "cell_type": "code",
   "execution_count": null,
   "metadata": {},
   "outputs": [],
   "source": []
  },
  {
   "cell_type": "code",
   "execution_count": null,
   "metadata": {},
   "outputs": [],
   "source": [
    "app.selected_collections.iloc[0]"
   ]
  },
  {
   "cell_type": "code",
   "execution_count": null,
   "metadata": {},
   "outputs": [],
   "source": [
    "for i,r in app.selected_collections.items():\n",
    "    print(i[\"datasse\"])\n",
    "    print(r)\n"
   ]
  },
  {
   "cell_type": "code",
   "execution_count": null,
   "metadata": {},
   "outputs": [],
   "source": [
    "\n"
   ]
  },
  {
   "cell_type": "code",
   "execution_count": null,
   "metadata": {},
   "outputs": [],
   "source": [
    "for i, r in app.selected_collections.iterrows():\n",
    "    print(i)\n",
    "    print(r)"
   ]
  },
  {
   "cell_type": "code",
   "execution_count": null,
   "metadata": {
    "scrolled": false
   },
   "outputs": [],
   "source": [
    "#above_datasets = collections.keyword(\"*ABoVE*\").get_all()\n",
    "\n",
    "#print(len(above_datasets))\n",
    "print(json.dumps(above_datasets[0], indent=4))\n",
    "\n",
    "#for d in above_datasets:\n",
    "#    print(d[\"dataset_id\"])"
   ]
  },
  {
   "cell_type": "code",
   "execution_count": null,
   "metadata": {},
   "outputs": [],
   "source": []
  },
  {
   "cell_type": "code",
   "execution_count": null,
   "metadata": {},
   "outputs": [],
   "source": [
    "app.map.layers[2].layers[0].clear_layers()"
   ]
  },
  {
   "cell_type": "code",
   "execution_count": null,
   "metadata": {},
   "outputs": [],
   "source": [
    "app.union.to_wkt()"
   ]
  },
  {
   "cell_type": "code",
   "execution_count": null,
   "metadata": {},
   "outputs": [],
   "source": [
    "x,y = "
   ]
  },
  {
   "cell_type": "code",
   "execution_count": null,
   "metadata": {},
   "outputs": [],
   "source": []
  },
  {
   "cell_type": "code",
   "execution_count": null,
   "metadata": {},
   "outputs": [],
   "source": [
    "y"
   ]
  },
  {
   "cell_type": "code",
   "execution_count": null,
   "metadata": {},
   "outputs": [],
   "source": [
    "dir(app.union.exterior.coords)"
   ]
  },
  {
   "cell_type": "code",
   "execution_count": null,
   "metadata": {},
   "outputs": [],
   "source": []
  },
  {
   "cell_type": "code",
   "execution_count": null,
   "metadata": {},
   "outputs": [],
   "source": []
  },
  {
   "cell_type": "code",
   "execution_count": null,
   "metadata": {},
   "outputs": [],
   "source": []
  },
  {
   "cell_type": "code",
   "execution_count": null,
   "metadata": {},
   "outputs": [],
   "source": []
  },
  {
   "cell_type": "code",
   "execution_count": null,
   "metadata": {},
   "outputs": [],
   "source": []
  },
  {
   "cell_type": "code",
   "execution_count": null,
   "metadata": {},
   "outputs": [],
   "source": []
  },
  {
   "cell_type": "code",
   "execution_count": null,
   "metadata": {},
   "outputs": [],
   "source": []
  },
  {
   "cell_type": "code",
   "execution_count": null,
   "metadata": {},
   "outputs": [],
   "source": []
  },
  {
   "cell_type": "code",
   "execution_count": null,
   "metadata": {},
   "outputs": [],
   "source": []
  },
  {
   "cell_type": "code",
   "execution_count": null,
   "metadata": {},
   "outputs": [],
   "source": []
  },
  {
   "cell_type": "code",
   "execution_count": null,
   "metadata": {
    "scrolled": false
   },
   "outputs": [],
   "source": [
    "from CMR import CollectionQuery, GranuleQuery\n",
    "\n",
    "collections = CollectionQuery()\n",
    "granules = GranuleQuery()"
   ]
  },
  {
   "cell_type": "code",
   "execution_count": null,
   "metadata": {
    "scrolled": false
   },
   "outputs": [],
   "source": [
    "ornlabovedf = query_ornl_projects()\n",
    "ornlabovedf.head()"
   ]
  },
  {
   "cell_type": "code",
   "execution_count": null,
   "metadata": {},
   "outputs": [],
   "source": [
    "boxes = ornlabovedf.boxes\n",
    "boxes[:5]"
   ]
  },
  {
   "cell_type": "code",
   "execution_count": null,
   "metadata": {},
   "outputs": [],
   "source": [
    "\n",
    "\n",
    "\n",
    "\n",
    "#text_box = \n",
    "#text_box"
   ]
  },
  {
   "cell_type": "code",
   "execution_count": null,
   "metadata": {},
   "outputs": [],
   "source": [
    "\n",
    "\n",
    "shape(test_geojson)\n",
    "    \n",
    "    \n",
    "    \n",
    "    \n",
    "   def CMR_box_to_geojson(box, id=0):\n",
    "    \"\"\" \"\"\"\n",
    "    \n",
    "    box = box.split(\" \")\n",
    "    \n",
    "    ll = [box[1], box[0]]\n",
    "    lr = [box[3], box[0]]\n",
    "    ur = [box[3], box[2]]\n",
    "    ul = [box[1], box[2]]\n",
    "\n",
    "    polygon = {\"type\": \"Polygon\", \"coordinates\": [ll, lr, ur,ul, ll]}\n",
    "\n",
    "    return(polygon) \n",
    "    "
   ]
  },
  {
   "cell_type": "code",
   "execution_count": null,
   "metadata": {},
   "outputs": [],
   "source": [
    "def geojson_intersect_cmr_box(selection_geojson, cmr_box):\n",
    "    \"\"\" \"\"\"\n",
    "    \n",
    "    selection_geom = shape(selection_geojson)\n",
    "    cmr_geom = shape(cmr_box)"
   ]
  },
  {
   "cell_type": "code",
   "execution_count": null,
   "metadata": {},
   "outputs": [],
   "source": [
    "print(\"Number of ABoVE datasets at ORNL DAAC:\"+str(len(above)))\n",
    "print(print(json.dumps(above[0], indent=4)))"
   ]
  }
 ],
 "metadata": {
  "kernelspec": {
   "display_name": "Python 3",
   "language": "python",
   "name": "python3"
  },
  "language_info": {
   "codemirror_mode": {
    "name": "ipython",
    "version": 3
   },
   "file_extension": ".py",
   "mimetype": "text/x-python",
   "name": "python",
   "nbconvert_exporter": "python",
   "pygments_lexer": "ipython3",
   "version": "3.6.7"
  }
 },
 "nbformat": 4,
 "nbformat_minor": 2
}
