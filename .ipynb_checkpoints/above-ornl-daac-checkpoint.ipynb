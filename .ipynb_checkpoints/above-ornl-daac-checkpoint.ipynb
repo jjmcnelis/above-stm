{
 "cells": [
  {
   "cell_type": "markdown",
   "metadata": {},
   "source": [
    "# Interactively Search CMR for  ABoVE Collections & Granules\n",
    "\n",
    "https://above.nasa.gov/implementation_plan/standard_projection.html#reference\n",
    "\n",
    "`![ABoVE Grid AB](https://above.nasa.gov/images/standard_projection_image_20170621.png)`"
   ]
  },
  {
   "cell_type": "code",
   "execution_count": null,
   "metadata": {
    "scrolled": false
   },
   "outputs": [],
   "source": [
    "#from ABoVE import *"
   ]
  },
  {
   "cell_type": "code",
   "execution_count": null,
   "metadata": {
    "scrolled": false
   },
   "outputs": [],
   "source": [
    "import json\n",
    "import pandas as pd\n",
    "\n",
    "from shapely.geometry import shape\n",
    "from shapely.ops import cascaded_union\n",
    "\n",
    "from ipyleaflet import Map,LayerGroup,DrawControl,GeoJSON,basemaps,basemap_to_tiles,Polygon\n",
    "from ipywidgets import HTML,Layout,HBox,VBox,Textarea,Output\n",
    "\n",
    "from Query import *\n",
    "\n",
    "# ---------------------------------------------------------------------------- \n",
    "# statics\n",
    "\n",
    "# the above grid; make layers later\n",
    "gridf = \"data/ABoVE_240m_30m_5m_grid_tiles/ABoVE_240m_30m_5m_grid_tiles.json\"\n",
    "with open(gridf, 'r') as file:\n",
    "    above_grid = json.load(file)\n",
    "\n",
    "# the above domain; make layer now\n",
    "domainf = 'data/ABoVE_Study_Domain/ABoVE_Study_Domain.json'  \n",
    "with open(domainf, 'r') as file:\n",
    "    above_domain = json.load(file)\n",
    "\n",
    "# get some info about ABoVE collection in CMR for ORNL\n",
    "ornl_above = query_ornl_projects()\n",
    "\n",
    "# load a basemap from ESRI #basemaps.NASAGIBS.ModisTerraTrueColorCR\n",
    "esri = basemap_to_tiles(basemaps.Esri.WorldImagery)\n",
    "\n",
    "# map draw poly styling\n",
    "draw_style = {\n",
    "    \"shapeOptions\": {\n",
    "        \"fillColor\": \"lightgreen\",\n",
    "        \"color\": \"lightgreen\",\n",
    "        \"fillOpacity\": 0.5}}\n",
    "\n",
    "# ----------------------------------------------------------------------------\n",
    "# JSON input interface and some other ui elements\n",
    "\n",
    "geojson_label = HTML(\"<h4><b> or paste your GeoJSON: </b></h4>\")\n",
    "geojson_text = Textarea(\n",
    "    placeholder='Paste GeoJSON string here.',\n",
    "    disabled=False,\n",
    "    layout=Layout(width=\"50%\", height=\"200px\"))\n",
    "    \n",
    "above_domain[\"features\"][0][\"properties\"][\"style\"] = {\n",
    "    \"weight\": 0.75,\n",
    "    \"color\": \"#FFFFFF\",\n",
    "    \"fillColor\": \"#FFFFFF\",\n",
    "    \"fillOpacity\": 0}\n",
    "domain_layer = GeoJSON(data=above_domain)\n",
    "\n",
    "header = HTML(\n",
    "    \"<h4><b>Draw a polygon on the map or paste your GeoJSON: </b></h4>\")\n",
    "\n",
    "instruct =  HTML(\n",
    "    \"<p><b>Instructions:</p><p><b>1.<br>2.<br>3.<br>...</p>\",\n",
    "    layout=Layout(width=\"50%\"))\n",
    "\n",
    "\n",
    "# ---------------------------------------------------------------------------- \n",
    "# class to manage toggled grid cells\n",
    "\n",
    "\n",
    "class Cell(object):\n",
    "    \"\"\" \"\"\"\n",
    "\n",
    "    offstyle = {\"fill_opacity\": 0, \"color\": \"white\", \"weight\": 0.75}\n",
    "    onstyle = {\"fill_opacity\": 0.4, \"color\": \"lightgreen\", \"weight\": 1}\n",
    "\n",
    "    def __init__(self, feat):\n",
    "        \"\"\"Inits with id,lat,lon; makes request string, map point.\"\"\"\n",
    "\n",
    "        self.feat = feat\n",
    "        self.shape = shape(feat[\"geometry\"])\n",
    "\n",
    "        self.prop = feat[\"properties\"]\n",
    "        self.feat[\"properties\"][\"style\"] = {\n",
    "            \"fill_opacity\": 0., \n",
    "            \"color\": \"white\", \n",
    "            \"weight\": 0.75}\n",
    "        self.id = self.prop[\"grid_id\"]\n",
    "        self.level = self.prop[\"grid_level\"]\n",
    "        \n",
    "        self.layer = GeoJSON(\n",
    "            data=self.feat,\n",
    "            hover_style = {\n",
    "                \"weight\": 1, \n",
    "                \"color\": \"white\",\n",
    "                \"fillColor\": \"white\",\n",
    "                \"fillOpacity\": 0.8})\n",
    "        self.layer.on_click(self.toggle)\n",
    "        self.on = False\n",
    "\n",
    "    def toggle(self, **kwargs):\n",
    "        \"\"\"Routine for when a cell is toggled on.\"\"\"\n",
    "        self.on = False if self.on else True\n",
    "        \n",
    "\n",
    "class App():\n",
    "    \"\"\" \"\"\"\n",
    "    \n",
    "    settings = {\"enabled_grid\": \"B\"}\n",
    "\n",
    "\n",
    "    def __init__(self, session=None):\n",
    "\n",
    "        self.session = session\n",
    "        self.use_grid = self.settings[\"enabled_grid\"]\n",
    "\n",
    "        # generate map grid polygon layers\n",
    "        self.grid_layers = LayerGroup()\n",
    "        self.grid_dict = {}\n",
    "        \n",
    "        for feat in above_grid[\"features\"]:\n",
    "            level = feat[\"properties\"][\"grid_level\"]\n",
    "            if level==self.use_grid:\n",
    "                Cell_object = Cell(feat) \n",
    "                #Cell_object.layer.on_click()\n",
    "\n",
    "                grid_id = Cell_object.id\n",
    "                self.grid_dict[grid_id] = Cell_object\n",
    "                self.grid_layers.add_layer(self.grid_dict[grid_id].layer)\n",
    "        \n",
    "        # make an attribute that will hold selected layer\n",
    "        self.selected_layer = LayerGroup()\n",
    "\n",
    "        self.map = Map(\n",
    "            layers=(esri, self.grid_layers, self.selected_layer, ),\n",
    "            center=(65, -100), \n",
    "            zoom=2, \n",
    "            width=\"auto\", \n",
    "            height=\"auto\",\n",
    "            scroll_wheel_zoom=True)\n",
    "\n",
    "        # map draw controls\n",
    "        self.draw_control = DrawControl()\n",
    "        self.draw_control.polyline =  {}\n",
    "        self.draw_control.circle = {}\n",
    "        self.draw_control.circlemarker = {}\n",
    "        self.draw_control.remove = False\n",
    "        self.draw_control.edit = False\n",
    "        self.draw_control.polygon = {**draw_style}\n",
    "        self.draw_control.rectangle = {**draw_style}\n",
    "        self.draw_control.on_draw(self.update_selected_cells)\n",
    "        self.map.add_control(self.draw_control)\n",
    "\n",
    "        \n",
    "        # output display\n",
    "        self.output = Output(layout=Layout(width=\"auto\"))\n",
    "        \n",
    "        # make the widget layout\n",
    "        self.ui = VBox([\n",
    "            header, \n",
    "            HBox([instruct, geojson_text]),\n",
    "            self.map,\n",
    "            self.output\n",
    "        ], layout=Layout(width=\"auto\"))\n",
    "\n",
    "        # display ui\n",
    "        display(self.ui)\n",
    "\n",
    "\n",
    "    # ------------------------------------------------------------------------\n",
    "\n",
    "\n",
    "    def update_selected_cells(self, *args, **kwargs):\n",
    "        \"\"\" \"\"\"\n",
    "        # clear all draw and selection layers\n",
    "        self.draw_control.clear()\n",
    "        \n",
    "        # --------------------------------------------------------------------\n",
    "        # update active cells and make a big merged polgyon for selection\n",
    "\n",
    "        # make shapely geom from geojson \n",
    "        drawn_json = kwargs[\"geo_json\"]\n",
    "        shapely_geom = shape(drawn_json[\"geometry\"])\n",
    "\n",
    "        # iterate over cells and toggle selected\n",
    "        cells = self.grid_dict\n",
    "        for id, cell in cells.items():\n",
    "            \n",
    "            # if drawn_geom intersects cell.shape, toggle\n",
    "            if shapely_geom.intersects(cell.shape):\n",
    "                cell.toggle()\n",
    "                cells[id] = cell\n",
    "        \n",
    "        # get the union of all of the cells that are toggled on\n",
    "        union = cascaded_union([c.shape for c in cells.values() if c.on])\n",
    "        print(dir(union))\n",
    "\n",
    "        # make layer that represents selected cells and add to selected_layer\n",
    "        self.selected_layer.clear_layers()\n",
    "        x,y = union.exterior.coords.xy\n",
    "        self.selected_layer.add_layer(Polygon(locations=list(zip(y,x))))\n",
    "        \n",
    "        # --------------------------------------------------------------------\n",
    "        # find all CMR collections that intersect with merged cells geom\n",
    "\n",
    "        selected = []\n",
    "        for index, collection in ornl_above.iterrows():\n",
    "            \n",
    "            box = collection.boxes\n",
    "            shapely_box = CMR_box_to_Shapely_box(box[0])\n",
    "            \n",
    "            # intersect: use shapely_geom if strictly using drawn poly\n",
    "            intersect_bool = shapely_box.intersects(union) \n",
    "            if intersect_bool:\n",
    "                selected.append(index)\n",
    "\n",
    "        selected_collections = ornl_above.iloc[selected]\n",
    "        with self.output:\n",
    "            display(selected_collections)\n",
    "\n",
    "\n",
    "##############################################################################\n",
    "# launch it braj!\n",
    "##############################################################################\n",
    "\n",
    "app = App()"
   ]
  },
  {
   "cell_type": "code",
   "execution_count": null,
   "metadata": {},
   "outputs": [],
   "source": []
  },
  {
   "cell_type": "code",
   "execution_count": null,
   "metadata": {},
   "outputs": [],
   "source": []
  },
  {
   "cell_type": "code",
   "execution_count": null,
   "metadata": {},
   "outputs": [],
   "source": []
  },
  {
   "cell_type": "code",
   "execution_count": null,
   "metadata": {},
   "outputs": [],
   "source": []
  },
  {
   "cell_type": "code",
   "execution_count": null,
   "metadata": {},
   "outputs": [],
   "source": []
  },
  {
   "cell_type": "code",
   "execution_count": null,
   "metadata": {},
   "outputs": [],
   "source": []
  },
  {
   "cell_type": "code",
   "execution_count": 11,
   "metadata": {},
   "outputs": [],
   "source": [
    "app.map.layers[2].layers[0].clear_layers()"
   ]
  },
  {
   "cell_type": "code",
   "execution_count": 20,
   "metadata": {},
   "outputs": [
    {
     "data": {
      "text/plain": [
       "'POLYGON ((-135.0162581533612354 63.9670001239980266, -131.8047615027335837 64.8088409250163693, -133.8563272867577041 66.1695355480760696, -136.1273393416981321 67.5058681905659483, -132.4867375251802457 68.3710069152319448, -134.8954326511262423 69.7323366654162839, -137.6007421529220665 71.0675146430054383, -133.4019276000458092 71.9699177507370678, -130.8465187522066628 70.5750920249297735, -126.4987874843132118 71.3331157203661377, -121.8583520724465359 71.9963042007902061, -120.0501645337784709 70.4834216340445892, -115.4317472931383719 70.9986225576468257, -110.6166030367025002 71.4058055941964938, -109.6067626516814073 69.8231510834091580, -108.7258730114065202 68.2463707035000340, -107.9509697793556455 66.6731729965043343, -107.2641840988426907 65.1017627337287337, -106.6514162882293562 63.5306884178891380, -110.2423738135565117 63.2374404725938462, -113.7526244693226403 62.8620043911557858, -114.7410057226240241 64.3951266913721696, -118.3195260881813056 63.9159680584793861, -121.7712683368837503 63.3582358761057662, -125.0856423852562074 62.7263373004830243, -126.6604344859908053 64.1629374330398861, -129.9456253767921226 63.4265422576438098, -133.0622948592360331 62.6240684073487799, -135.0162581533612354 63.9670001239980266))'"
      ]
     },
     "execution_count": 20,
     "metadata": {},
     "output_type": "execute_result"
    }
   ],
   "source": [
    "app.union.to_wkt()"
   ]
  },
  {
   "cell_type": "code",
   "execution_count": 30,
   "metadata": {},
   "outputs": [],
   "source": [
    "x,y = "
   ]
  },
  {
   "cell_type": "code",
   "execution_count": 33,
   "metadata": {},
   "outputs": [
    {
     "data": {
      "text/plain": [
       "[(63.96700012399803, -135.01625815336124),\n",
       " (64.80884092501637, -131.80476150273358),\n",
       " (66.16953554807607, -133.8563272867577),\n",
       " (67.50586819056595, -136.12733934169813),\n",
       " (68.37100691523194, -132.48673752518025),\n",
       " (69.73233666541628, -134.89543265112624),\n",
       " (71.06751464300544, -137.60074215292207),\n",
       " (71.96991775073707, -133.4019276000458),\n",
       " (70.57509202492977, -130.84651875220666),\n",
       " (71.33311572036614, -126.49878748431321),\n",
       " (71.9963042007902, -121.85835207244654),\n",
       " (70.48342163404459, -120.05016453377847),\n",
       " (70.99862255764683, -115.43174729313837),\n",
       " (71.4058055941965, -110.6166030367025),\n",
       " (69.82315108340916, -109.60676265168141),\n",
       " (68.24637070350003, -108.72587301140652),\n",
       " (66.67317299650433, -107.95096977935565),\n",
       " (65.10176273372873, -107.26418409884269),\n",
       " (63.53068841788914, -106.65141628822936),\n",
       " (63.237440472593846, -110.24237381355651),\n",
       " (62.862004391155786, -113.75262446932264),\n",
       " (64.39512669137217, -114.74100572262402),\n",
       " (63.915968058479386, -118.3195260881813),\n",
       " (63.358235876105766, -121.77126833688375),\n",
       " (62.726337300483024, -125.08564238525621),\n",
       " (64.16293743303989, -126.6604344859908),\n",
       " (63.42654225764381, -129.94562537679212),\n",
       " (62.62406840734878, -133.06229485923603),\n",
       " (63.96700012399803, -135.01625815336124)]"
      ]
     },
     "execution_count": 33,
     "metadata": {},
     "output_type": "execute_result"
    }
   ],
   "source": []
  },
  {
   "cell_type": "code",
   "execution_count": 27,
   "metadata": {},
   "outputs": [
    {
     "data": {
      "text/plain": [
       "array('d', [63.96700012399803, 64.80884092501637, 66.16953554807607, 67.50586819056595, 68.37100691523194, 69.73233666541628, 71.06751464300544, 71.96991775073707, 70.57509202492977, 71.33311572036614, 71.9963042007902, 70.48342163404459, 70.99862255764683, 71.4058055941965, 69.82315108340916, 68.24637070350003, 66.67317299650433, 65.10176273372873, 63.53068841788914, 63.237440472593846, 62.862004391155786, 64.39512669137217, 63.915968058479386, 63.358235876105766, 62.726337300483024, 64.16293743303989, 63.42654225764381, 62.62406840734878, 63.96700012399803])"
      ]
     },
     "execution_count": 27,
     "metadata": {},
     "output_type": "execute_result"
    }
   ],
   "source": [
    "y"
   ]
  },
  {
   "cell_type": "code",
   "execution_count": 28,
   "metadata": {},
   "outputs": [
    {
     "data": {
      "text/plain": [
       "['__array_interface__',\n",
       " '__class__',\n",
       " '__delattr__',\n",
       " '__dict__',\n",
       " '__dir__',\n",
       " '__doc__',\n",
       " '__eq__',\n",
       " '__format__',\n",
       " '__ge__',\n",
       " '__getattribute__',\n",
       " '__getitem__',\n",
       " '__gt__',\n",
       " '__hash__',\n",
       " '__init__',\n",
       " '__init_subclass__',\n",
       " '__iter__',\n",
       " '__le__',\n",
       " '__len__',\n",
       " '__lt__',\n",
       " '__module__',\n",
       " '__ne__',\n",
       " '__new__',\n",
       " '__p__',\n",
       " '__reduce__',\n",
       " '__reduce_ex__',\n",
       " '__repr__',\n",
       " '__setattr__',\n",
       " '__sizeof__',\n",
       " '__str__',\n",
       " '__subclasshook__',\n",
       " '__weakref__',\n",
       " '_cseq',\n",
       " '_ndim',\n",
       " '_update',\n",
       " 'array_interface',\n",
       " 'ctypes',\n",
       " 'xy']"
      ]
     },
     "execution_count": 28,
     "metadata": {},
     "output_type": "execute_result"
    }
   ],
   "source": [
    "dir(app.union.exterior.coords)"
   ]
  },
  {
   "cell_type": "code",
   "execution_count": null,
   "metadata": {},
   "outputs": [],
   "source": []
  },
  {
   "cell_type": "code",
   "execution_count": null,
   "metadata": {},
   "outputs": [],
   "source": []
  },
  {
   "cell_type": "code",
   "execution_count": null,
   "metadata": {},
   "outputs": [],
   "source": []
  },
  {
   "cell_type": "code",
   "execution_count": null,
   "metadata": {},
   "outputs": [],
   "source": []
  },
  {
   "cell_type": "code",
   "execution_count": null,
   "metadata": {},
   "outputs": [],
   "source": []
  },
  {
   "cell_type": "code",
   "execution_count": null,
   "metadata": {},
   "outputs": [],
   "source": []
  },
  {
   "cell_type": "code",
   "execution_count": null,
   "metadata": {},
   "outputs": [],
   "source": []
  },
  {
   "cell_type": "code",
   "execution_count": null,
   "metadata": {},
   "outputs": [],
   "source": []
  },
  {
   "cell_type": "code",
   "execution_count": null,
   "metadata": {},
   "outputs": [],
   "source": []
  },
  {
   "cell_type": "code",
   "execution_count": null,
   "metadata": {},
   "outputs": [],
   "source": []
  },
  {
   "cell_type": "code",
   "execution_count": null,
   "metadata": {
    "scrolled": false
   },
   "outputs": [],
   "source": [
    "from CMR import CollectionQuery, GranuleQuery\n",
    "\n",
    "collections = CollectionQuery()\n",
    "granules = GranuleQuery()"
   ]
  },
  {
   "cell_type": "code",
   "execution_count": null,
   "metadata": {
    "scrolled": false
   },
   "outputs": [],
   "source": [
    "ornlabovedf = query_ornl_projects()\n",
    "ornlabovedf.head()"
   ]
  },
  {
   "cell_type": "code",
   "execution_count": null,
   "metadata": {},
   "outputs": [],
   "source": [
    "boxes = ornlabovedf.boxes\n",
    "boxes[:5]"
   ]
  },
  {
   "cell_type": "code",
   "execution_count": null,
   "metadata": {},
   "outputs": [],
   "source": [
    "\n",
    "\n",
    "\n",
    "\n",
    "#text_box = \n",
    "#text_box"
   ]
  },
  {
   "cell_type": "code",
   "execution_count": null,
   "metadata": {},
   "outputs": [],
   "source": [
    "\n",
    "\n",
    "shape(test_geojson)\n",
    "    \n",
    "    \n",
    "    \n",
    "    \n",
    "   def CMR_box_to_geojson(box, id=0):\n",
    "    \"\"\" \"\"\"\n",
    "    \n",
    "    box = box.split(\" \")\n",
    "    \n",
    "    ll = [box[1], box[0]]\n",
    "    lr = [box[3], box[0]]\n",
    "    ur = [box[3], box[2]]\n",
    "    ul = [box[1], box[2]]\n",
    "\n",
    "    polygon = {\"type\": \"Polygon\", \"coordinates\": [ll, lr, ur,ul, ll]}\n",
    "\n",
    "    return(polygon) \n",
    "    "
   ]
  },
  {
   "cell_type": "code",
   "execution_count": null,
   "metadata": {},
   "outputs": [],
   "source": [
    "def geojson_intersect_cmr_box(selection_geojson, cmr_box):\n",
    "    \"\"\" \"\"\"\n",
    "    \n",
    "    selection_geom = shape(selection_geojson)\n",
    "    cmr_geom = shape(cmr_box)"
   ]
  },
  {
   "cell_type": "code",
   "execution_count": null,
   "metadata": {},
   "outputs": [],
   "source": [
    "print(\"Number of ABoVE datasets at ORNL DAAC:\"+str(len(above)))\n",
    "print(print(json.dumps(above[0], indent=4)))"
   ]
  }
 ],
 "metadata": {
  "kernelspec": {
   "display_name": "Python 3",
   "language": "python",
   "name": "python3"
  },
  "language_info": {
   "codemirror_mode": {
    "name": "ipython",
    "version": 3
   },
   "file_extension": ".py",
   "mimetype": "text/x-python",
   "name": "python",
   "nbconvert_exporter": "python",
   "pygments_lexer": "ipython3",
   "version": "3.7.1"
  }
 },
 "nbformat": 4,
 "nbformat_minor": 2
}
