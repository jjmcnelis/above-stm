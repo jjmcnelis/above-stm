{
 "cells": [
  {
   "cell_type": "markdown",
   "metadata": {},
   "source": [
    "#### This first cell is entirely creating jupyter widgets/reading ABoVE vector data. We can hide it from the users like Yaxing did with his workshop. Then show a walkthrough of the important pieces at the bottom of the notebook:"
   ]
  },
  {
   "cell_type": "code",
   "execution_count": 31,
   "metadata": {},
   "outputs": [],
   "source": [
    "from CMR import *\n",
    "from QueryCMR import *\n",
    "\n",
    "\n",
    "above_search = collections.keyword(\"*Boreal Vulnerability Experiment*\").get_all()\n",
    "above_results = [r for r in above_results if any([\n",
    "    \"ABoVE\" in r[\"dataset_id\"],\n",
    "    \"ABoVE\" in r[\"summary\"]])\n",
    "]"
   ]
  },
  {
   "cell_type": "code",
   "execution_count": 32,
   "metadata": {},
   "outputs": [
    {
     "data": {
      "text/plain": [
       "45"
      ]
     },
     "execution_count": 32,
     "metadata": {},
     "output_type": "execute_result"
    }
   ],
   "source": [
    "len(above_results)"
   ]
  },
  {
   "cell_type": "code",
   "execution_count": null,
   "metadata": {},
   "outputs": [],
   "source": []
  },
  {
   "cell_type": "code",
   "execution_count": null,
   "metadata": {},
   "outputs": [],
   "source": []
  },
  {
   "cell_type": "code",
   "execution_count": null,
   "metadata": {},
   "outputs": [],
   "source": []
  },
  {
   "cell_type": "code",
   "execution_count": null,
   "metadata": {},
   "outputs": [],
   "source": []
  },
  {
   "cell_type": "code",
   "execution_count": null,
   "metadata": {},
   "outputs": [],
   "source": []
  },
  {
   "cell_type": "code",
   "execution_count": 29,
   "metadata": {},
   "outputs": [
    {
     "data": {
      "text/plain": [
       "{'processing_level_id': '4',\n",
       " 'boxes': ['39.42 -176.12 81.61 -66.92'],\n",
       " 'time_start': '2014-01-01T00:00:00.000Z',\n",
       " 'version_id': '1',\n",
       " 'updated': '2019-04-15T18:55:48.000Z',\n",
       " 'dataset_id': 'A Concise Experiment Plan for the Arctic-Boreal Vulnerability Experiment',\n",
       " 'has_spatial_subsetting': False,\n",
       " 'has_transforms': False,\n",
       " 'has_variables': False,\n",
       " 'data_center': 'ORNL_DAAC',\n",
       " 'short_name': 'ABoVE_Concise_Experiment_Plan_1617',\n",
       " 'organizations': ['ORNL_DAAC'],\n",
       " 'title': 'A Concise Experiment Plan for the Arctic-Boreal Vulnerability Experiment',\n",
       " 'coordinate_system': 'CARTESIAN',\n",
       " 'summary': \"This document presents the Concise Experiment Plan for NASA's Arctic-Boreal Vulnerability Experiment (ABoVE) to serve as a guide to the Program as it identifies the research to be conducted under this study. Research for ABoVE will link field-based, process-level studies with geospatial data products derived from airborne and satellite remote sensing, providing a foundation for improving the analysis and modeling capabilities needed to understand and predict ecosystem responses and societal implications. The ABoVE Concise Experiment Plan (ACEP) outlines the conceptual basis for the Field Campaign and expresses the compelling rationale explaining the scientific and societal importance of the study. It presents both the science questions driving ABoVE research as well as the top-level requirements for a study design to address them.\",\n",
       " 'time_end': '2021-12-31T23:59:59.000Z',\n",
       " 'orbit_parameters': {},\n",
       " 'id': 'C1536961538-ORNL_DAAC',\n",
       " 'has_formats': False,\n",
       " 'score': 1.1,\n",
       " 'original_format': 'ECHO10',\n",
       " 'archive_center': 'ORNL_DAAC',\n",
       " 'browse_flag': True,\n",
       " 'online_access_flag': True,\n",
       " 'links': [{'rel': 'http://esipfed.org/ns/fedsearch/1.1/data#',\n",
       "   'hreflang': 'en-US',\n",
       "   'href': 'https://daac.ornl.gov/daacdata/above/ABoVE_Concise_Experiment_Plan/'},\n",
       "  {'rel': 'http://esipfed.org/ns/fedsearch/1.1/documentation#',\n",
       "   'hreflang': 'en-US',\n",
       "   'href': 'https://daac.ornl.gov/ABOVE/guides/ABoVE_Concise_Experiment_Plan.html'},\n",
       "  {'rel': 'http://esipfed.org/ns/fedsearch/1.1/metadata#',\n",
       "   'hreflang': 'en-US',\n",
       "   'href': 'https://doi.org/10.3334/ORNLDAAC/1617'},\n",
       "  {'rel': 'http://esipfed.org/ns/fedsearch/1.1/documentation#',\n",
       "   'hreflang': 'en-US',\n",
       "   'href': 'https://daac.ornl.gov/daacdata/above/ABoVE_Concise_Experiment_Plan/comp/ABoVE_Concise_Experiment_Plan.pdf'},\n",
       "  {'rel': 'http://esipfed.org/ns/fedsearch/1.1/documentation#',\n",
       "   'hreflang': 'en-US',\n",
       "   'href': 'https://daac.ornl.gov/daacdata/above/ABoVE_Concise_Experiment_Plan/comp/ACEP_Erratum.pdf'},\n",
       "  {'rel': 'http://esipfed.org/ns/fedsearch/1.1/documentation#',\n",
       "   'hreflang': 'en-US',\n",
       "   'href': 'https://daac.ornl.gov/daacdata/above/ABoVE_Concise_Experiment_Plan/comp/ACEP_Figures.zip'},\n",
       "  {'rel': 'http://esipfed.org/ns/fedsearch/1.1/browse#',\n",
       "   'hreflang': 'en-US',\n",
       "   'href': 'https://daac.ornl.gov/ABOVE/guides/ABoVE_Concise_Experiment_Plan_Fig1.png'}]}"
      ]
     },
     "execution_count": 29,
     "metadata": {},
     "output_type": "execute_result"
    }
   ],
   "source": [
    "above_results2[0]"
   ]
  },
  {
   "cell_type": "code",
   "execution_count": 30,
   "metadata": {
    "scrolled": false
   },
   "outputs": [
    {
     "name": "stdout",
     "output_type": "stream",
     "text": [
      "ABoVE_Concise_Experiment_Plan_1617\n",
      "ABoVE_reference_grid_v2_1527\n",
      "ABoVE_Airborne_AVIRIS_NG_1569\n",
      "Arctic_Winter_Respiration_1620\n",
      "Erosion_Vegetation_Yukon_1616\n",
      "ABoVE_Arctic_CAP_1658\n",
      "ABoVE_PBand_SAR_1657\n",
      "ABoVE_Thaw_Depth_1579\n",
      "Alaska_Yukon_NDVI_1614\n",
      "ABoVE_AirSWOT_Radar_Data_1646\n",
      "ABoVE_Open_Water_Map_1643\n",
      "Wildfire_Effects_Spruce_Field_1595\n",
      "ABLVIS2\n",
      "ABLVIS1B\n",
      "ABoVE_Planning_Field_Sites_1582\n",
      "Snowpack_Dall_Sheep_Track_1583\n",
      "AK_North_Slope_NEE_CH4_Flux_1562\n",
      "Rain-on-Snow_Data_1611\n",
      "Maps_AGB_North_Slope_AK_1565\n",
      "Wildfires_NWT_Canada_1548\n",
      "Fire_Emissions_NWT_1561\n",
      "Permafrost_Thaw_Depth_YK_1598\n",
      "Last_Day_Spring_Snow_1528\n",
      "ABoVE_Fire_Severity_dNBR_1564\n",
      "Seasonality_Tundra_Vegetation_1606\n",
      "Wildfires_Date_of_Burning_1559\n",
      "ABoVE_Frac_Open_Water_1362\n",
      "Alaskan_Wildfire_C_Emissions_1341\n",
      "Arctic_Boreal_Burned_Area_1526\n",
      "Dall_Sheep_Population_Dynamics_1640\n",
      "MODIS_CCaN_NDVI_Trends_Alaska_1666\n",
      "Wildfires_2014_NWT_Canada_1307\n",
      "ABoVE_Soil_Radiocarbon_NWT_1664\n",
      "Canada_Boreal_Forest_Greenness_1587\n",
      "ReSALT_ALT_GPR_1265\n",
      "ALT_GPR_Barrow_1355\n",
      "Vegetation_greenness_trend_1576\n",
      "Decadal_Water_Maps_1324\n",
      "RESALT_INSAR_BARROW_1266\n",
      "Alaska_L4_WRF_STILT_Particle_1571\n",
      "Alaska_L4_WRF_STILT_Footprints_1544\n",
      "Dall_Sheep_Snowpack_1602\n",
      "ABoVE_Uncertainty_Maps_1652\n",
      "INSAR_Prudhoe_Bay_1267\n",
      "AVHRR_Fire_Products_1545\n"
     ]
    }
   ],
   "source": [
    "for r in above_results2:\n",
    "    print(r[\"short_name\"])"
   ]
  },
  {
   "cell_type": "code",
   "execution_count": null,
   "metadata": {},
   "outputs": [],
   "source": []
  },
  {
   "cell_type": "code",
   "execution_count": null,
   "metadata": {},
   "outputs": [],
   "source": []
  },
  {
   "cell_type": "code",
   "execution_count": null,
   "metadata": {},
   "outputs": [],
   "source": []
  },
  {
   "cell_type": "code",
   "execution_count": null,
   "metadata": {},
   "outputs": [],
   "source": []
  },
  {
   "cell_type": "code",
   "execution_count": null,
   "metadata": {},
   "outputs": [],
   "source": []
  },
  {
   "cell_type": "code",
   "execution_count": null,
   "metadata": {},
   "outputs": [],
   "source": []
  },
  {
   "cell_type": "code",
   "execution_count": 2,
   "metadata": {},
   "outputs": [
    {
     "data": {
      "application/vnd.jupyter.widget-view+json": {
       "model_id": "0db1f9bc658141a99059214d192962d4",
       "version_major": 2,
       "version_minor": 0
      },
      "text/plain": [
       "VBox(children=(HTML(value='<h4><b>Paste your GeoJSON: </b></h4>'), Textarea(value='\"geometry\": { \"type\": \"Poly…"
      ]
     },
     "metadata": {},
     "output_type": "display_data"
    }
   ],
   "source": [
    "import json\n",
    "import ipyleaflet as pl\n",
    "import ipywidgets as pw\n",
    "\n",
    "# ------------------------------------------------------------------------------- \n",
    "# the above grid (not using C because too fine)\n",
    "\n",
    "grid_json = 'data/ABoVE_240m_30m_5m_grid_tiles/ABoVE_240m_30m_5m_grid_tiles.json'\n",
    "grid_layers = {\"A\": pl.LayerGroup(), \"B\": pl.LayerGroup()}\n",
    "grid_table = {\"A\": {}, \"B\": {}, \"C\": {}}\n",
    "\n",
    "with open(grid_json, 'r') as file:\n",
    "    above_grid = json.load(file)\n",
    "    \n",
    "    for feat in above_grid[\"features\"]:\n",
    "        prop = feat[\"properties\"]          # collect grid cell properties\n",
    "        level = prop[\"grid_level\"]         # get level A, B, or C\n",
    "        feat[\"properties\"][\"style\"] = {\n",
    "            \"weight\": 0.75,\n",
    "            \"color\": \"aliceblue\",\n",
    "            \"fillColor\": \"#FFFFFF\",\n",
    "            \"fillOpacity\": 0.4}\n",
    "        \n",
    "        if level!=\"C\": \n",
    "        \n",
    "            id = prop[\"grid_id\"]               # get grid cell id\n",
    "            cell = pl.GeoJSON(data=feat)       # make geojson map layer\n",
    "\n",
    "            # add object to map group and reference dictionary\n",
    "            grid_table[level][id] = cell\n",
    "            grid_layers[level].add_layer(cell)\n",
    "\n",
    "    \n",
    "# ------------------------------------------------------------------------------- \n",
    "# the above domain\n",
    "\n",
    "domain_json = 'data/ABoVE_Study_Domain/ABoVE_Study_Domain.json'  \n",
    "with open(domain_json, 'r') as file:\n",
    "    above_domain = json.load(file)\n",
    "    above_domain[\"features\"][0][\"properties\"][\"style\"] = {\n",
    "        \"weight\": 0.75,\n",
    "        \"color\": \"#FFFFFF\",\n",
    "        \"fillColor\": \"#FFFFFF\",\n",
    "        \"fillOpacity\": 0}\n",
    "    domain_layer = pl.GeoJSON(data=above_domain)\n",
    "\n",
    "    \n",
    "# -------------------------------------------------------------------------------\n",
    "# JSON input interface\n",
    "\n",
    "# the default json string for selecting collections/granules \n",
    "with open('data/geom.json', 'r') as file:\n",
    "    default_json = file.read().replace('\\n', '')\n",
    "\n",
    "geojson_label = pw.HTML(\"<h4><b>Paste your GeoJSON: </b></h4>\")\n",
    "geojson_text = pw.Textarea(\n",
    "    value=default_json,\n",
    "    placeholder='Paste GeoJSON string here.',\n",
    "    disabled=False,\n",
    "    layout=pw.Layout(width=\"auto\", height=\"200px\"))\n",
    "\n",
    "\n",
    "# -------------------------------------------------------------------------------\n",
    "# map widget interface\n",
    "\n",
    "# load a basemap layer from ESRI service\n",
    "esri = pl.basemap_to_tiles(pl.basemaps.Esri.WorldImagery)\n",
    "gibs = pl.basemap_to_tiles(pl.basemaps.NASAGIBS.ModisTerraTrueColorCR, \"2019-01-01\")\n",
    "\n",
    "# initialize map widget\n",
    "m = pl.Map(layers=(esri, domain_layer,), center=(65, -150), zoom=5, scroll_wheel_zoom=True)\n",
    "control = pl.SplitMapControl(left_layer=grid_layers[\"A\"], right_layer=grid_layers[\"B\"])\n",
    "m.add_control(control)\n",
    "\n",
    "# add an options menu\n",
    "#m.add_control(pl.LayersControl())\n",
    "\n",
    "# -------------------------------------------------------------------------------\n",
    "# display!\n",
    "pw.VBox([geojson_label, geojson_text, m])"
   ]
  },
  {
   "cell_type": "code",
   "execution_count": null,
   "metadata": {},
   "outputs": [],
   "source": [
    "above_grid[\"features\"][0]"
   ]
  },
  {
   "cell_type": "markdown",
   "metadata": {},
   "source": [
    "# TOC:\n",
    "\n",
    "[CMR: find ABoVE datasets](above-ornl-daac.ipynb#Searching-CMR-with-Python)\n",
    "\n",
    "# Subset, download ABoVE data from THREDDS: "
   ]
  },
  {
   "cell_type": "code",
   "execution_count": null,
   "metadata": {},
   "outputs": [],
   "source": [
    "geojson_text.value"
   ]
  },
  {
   "cell_type": "code",
   "execution_count": null,
   "metadata": {},
   "outputs": [],
   "source": [
    "import json\n",
    "import xarray as xr\n",
    "from osgeo import gdal, ogr, osr\n",
    "\n",
    "#jsonstr = geojson_text.value\n",
    "shp = ogr.Open(\"geo.shp\")    # open shapefile\n",
    "lyr = shp.GetLayer()             # get first (and only) layer\n",
    "ext = lyr.GetExtent()            # get extent\n",
    "\n",
    "ext"
   ]
  },
  {
   "cell_type": "code",
   "execution_count": null,
   "metadata": {},
   "outputs": [],
   "source": [
    "source_srs = lyr.GetSpatialRef()                                 # get srs\n",
    "target_srs = osr.SpatialReference()                              # output srs\n",
    "target_srs.ImportFromEPSG(4326)                            # import daymet proj\n",
    "\n",
    "transform = osr.CoordinateTransformation(source_srs, target_srs) # the transformation"
   ]
  },
  {
   "cell_type": "code",
   "execution_count": null,
   "metadata": {},
   "outputs": [],
   "source": [
    "feat = lyr.GetFeature(0)         # select the input layer's only feature\n",
    "geom = feat.GetGeometryRef()     # get the feature's geometry\n",
    "geom.Transform(transform)          # transform to daymet lcc\n",
    "\n",
    "geom"
   ]
  },
  {
   "cell_type": "code",
   "execution_count": null,
   "metadata": {},
   "outputs": [],
   "source": [
    "memvector = ogr.GetDriverByName('Memory').CreateDataSource('mem')  # open OGR vector memory dataset\n",
    "memlyr = memvector.CreateLayer('poly', srs=target_srs)             # make a dummy layer in daymet lcc\n",
    "memfeat = ogr.Feature(memlyr.GetLayerDefn())                       # init a dummy feature\n",
    "memfeat.SetGeometryDirectly(geom)                                  # set transformed geom to feature\n",
    "memlyr.CreateFeature(memfeat)                                      # add dummy feature to layer\n",
    "\n",
    "lccext = memlyr.GetExtent()                                        # get the lcc extent for the next step\n",
    "lccext"
   ]
  },
  {
   "cell_type": "code",
   "execution_count": null,
   "metadata": {},
   "outputs": [],
   "source": []
  },
  {
   "cell_type": "code",
   "execution_count": null,
   "metadata": {},
   "outputs": [],
   "source": []
  },
  {
   "cell_type": "code",
   "execution_count": null,
   "metadata": {},
   "outputs": [],
   "source": []
  },
  {
   "cell_type": "code",
   "execution_count": null,
   "metadata": {},
   "outputs": [],
   "source": []
  },
  {
   "cell_type": "code",
   "execution_count": null,
   "metadata": {},
   "outputs": [],
   "source": []
  },
  {
   "cell_type": "code",
   "execution_count": null,
   "metadata": {},
   "outputs": [],
   "source": []
  },
  {
   "cell_type": "code",
   "execution_count": null,
   "metadata": {},
   "outputs": [],
   "source": []
  },
  {
   "cell_type": "code",
   "execution_count": null,
   "metadata": {},
   "outputs": [],
   "source": [
    "\n",
    "above_thredds = (\"https://thredds.daac.ornl.gov/thredds/catalogs/ornldaac/\"\n",
    "                 \"Field_Campaign_Data/Arctic-Boreal_Vulnerability_Experiment/\"\n",
    "                 \"Arctic-Boreal_Vulnerability_Experiment.html\")\n",
    "\n",
    "response = requests.get(above_thredds)\n",
    "\n",
    "from lxml import html\n",
    "\n",
    "page = html.fromstring(response.content)  # parse html to list\n",
    "href = page.xpath('//a/@href')                              # get links\n",
    "links = [link for link in href] # select links \n",
    "\n",
    "links"
   ]
  },
  {
   "cell_type": "markdown",
   "metadata": {},
   "source": [
    "# Searching CMR with Python:\n",
    "\n",
    "A Python wrapper to NASA's Common Metadata Repository (CMR) API is available through pip:\n",
    "```{shell}\n",
    "pip install python-cmr\n",
    "```\n",
    "\n",
    "See what's available in `cmr` package:"
   ]
  },
  {
   "cell_type": "code",
   "execution_count": null,
   "metadata": {
    "scrolled": false
   },
   "outputs": [],
   "source": [
    "import cmr\n",
    "import json\n",
    "\n",
    "printd = lambda o: print([a for a in dir(o) if \"__\" not in a])\n",
    "#help(cmr)"
   ]
  },
  {
   "cell_type": "markdown",
   "metadata": {},
   "source": [
    "Import the public classes; check out collections:"
   ]
  },
  {
   "cell_type": "code",
   "execution_count": null,
   "metadata": {
    "scrolled": false
   },
   "outputs": [],
   "source": [
    "from cmr import CollectionQuery, GranuleQuery\n",
    "\n",
    "collections = CollectionQuery()\n",
    "granules = GranuleQuery()\n",
    "\n",
    "printd(collections)"
   ]
  },
  {
   "cell_type": "markdown",
   "metadata": {},
   "source": [
    "Get ORNL DAAC collections:"
   ]
  },
  {
   "cell_type": "code",
   "execution_count": null,
   "metadata": {
    "scrolled": false
   },
   "outputs": [],
   "source": [
    "ornldaac = collections.archive_center(\"ORNL_DAAC\")\n",
    "\n",
    "printd(ornldaac)"
   ]
  },
  {
   "cell_type": "markdown",
   "metadata": {},
   "source": [
    "### Get all ORNL DAAC's ABoVE datasets in CMR. Print the number of datasets and the first dataset's record:"
   ]
  },
  {
   "cell_type": "code",
   "execution_count": null,
   "metadata": {},
   "outputs": [],
   "source": [
    "above = [d for d in ornldaac.keyword(\"ABoVE\").get_all() if \"ABoVE\" in d[\"title\"]]\n",
    "print(\"Number of ABoVE datasets at ORNL DAAC:\"+str(len(above)))\n",
    "print(print(json.dumps(above[0], indent=4)))"
   ]
  },
  {
   "cell_type": "code",
   "execution_count": null,
   "metadata": {},
   "outputs": [],
   "source": []
  },
  {
   "cell_type": "markdown",
   "metadata": {},
   "source": [
    "### Datasets to pandas data frame:"
   ]
  },
  {
   "cell_type": "code",
   "execution_count": null,
   "metadata": {
    "scrolled": false
   },
   "outputs": [],
   "source": [
    "import pandas as pd\n",
    "\n",
    "datasets = pd.DataFrame(above)\n",
    "\n",
    "datasets.head(5)"
   ]
  },
  {
   "cell_type": "code",
   "execution_count": null,
   "metadata": {},
   "outputs": [],
   "source": []
  },
  {
   "cell_type": "markdown",
   "metadata": {},
   "source": [
    "### List of dataset titles:"
   ]
  },
  {
   "cell_type": "code",
   "execution_count": null,
   "metadata": {},
   "outputs": [],
   "source": [
    "dsnames = datasets.dataset_id.tolist()\n",
    "dsnames"
   ]
  },
  {
   "cell_type": "markdown",
   "metadata": {},
   "source": [
    "### Get last 10 published ABoVE datasets:"
   ]
  },
  {
   "cell_type": "code",
   "execution_count": null,
   "metadata": {},
   "outputs": [],
   "source": [
    "datasets.sort_values(\"updated\")"
   ]
  },
  {
   "cell_type": "code",
   "execution_count": null,
   "metadata": {},
   "outputs": [],
   "source": []
  },
  {
   "cell_type": "code",
   "execution_count": null,
   "metadata": {},
   "outputs": [],
   "source": [
    "cmr = \"https://cmr.earthdata.nasa.gov/search/\"\n",
    "\n",
    "project = \"ABoVE\"\n",
    "\n",
    "\n",
    "\n",
    "collections = \"collections?\" #  options:\n",
    "projectstr = \"project=%s\"\n",
    "\n",
    "\n",
    "\n",
    "\n",
    "project % \"ABoVE\""
   ]
  }
 ],
 "metadata": {
  "kernelspec": {
   "display_name": "Python 3",
   "language": "python",
   "name": "python3"
  },
  "language_info": {
   "codemirror_mode": {
    "name": "ipython",
    "version": 3
   },
   "file_extension": ".py",
   "mimetype": "text/x-python",
   "name": "python",
   "nbconvert_exporter": "python",
   "pygments_lexer": "ipython3",
   "version": "3.6.7"
  }
 },
 "nbformat": 4,
 "nbformat_minor": 2
}
