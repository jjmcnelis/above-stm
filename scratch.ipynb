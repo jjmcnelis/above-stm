{
 "cells": [
  {
   "cell_type": "markdown",
   "metadata": {},
   "source": [
    "#### This first cell is entirely creating jupyter widgets/reading ABoVE vector data. We can hide it from the users like Yaxing did with his workshop. Then show a walkthrough of the important pieces at the bottom of the notebook:"
   ]
  },
  {
   "cell_type": "code",
   "execution_count": 2,
   "metadata": {},
   "outputs": [
    {
     "data": {
      "application/vnd.jupyter.widget-view+json": {
       "model_id": "0db1f9bc658141a99059214d192962d4",
       "version_major": 2,
       "version_minor": 0
      },
      "text/plain": [
       "VBox(children=(HTML(value='<h4><b>Paste your GeoJSON: </b></h4>'), Textarea(value='\"geometry\": { \"type\": \"Poly…"
      ]
     },
     "metadata": {},
     "output_type": "display_data"
    }
   ],
   "source": [
    "import json\n",
    "import ipyleaflet as pl\n",
    "import ipywidgets as pw\n",
    "\n",
    "# ------------------------------------------------------------------------------- \n",
    "# the above grid (not using C because too fine)\n",
    "\n",
    "grid_json = 'data/ABoVE_240m_30m_5m_grid_tiles/ABoVE_240m_30m_5m_grid_tiles.json'\n",
    "grid_layers = {\"A\": pl.LayerGroup(), \"B\": pl.LayerGroup()}\n",
    "grid_table = {\"A\": {}, \"B\": {}, \"C\": {}}\n",
    "\n",
    "with open(grid_json, 'r') as file:\n",
    "    above_grid = json.load(file)\n",
    "    \n",
    "    for feat in above_grid[\"features\"]:\n",
    "        prop = feat[\"properties\"]          # collect grid cell properties\n",
    "        level = prop[\"grid_level\"]         # get level A, B, or C\n",
    "        feat[\"properties\"][\"style\"] = {\n",
    "            \"weight\": 0.75,\n",
    "            \"color\": \"aliceblue\",\n",
    "            \"fillColor\": \"#FFFFFF\",\n",
    "            \"fillOpacity\": 0.4}\n",
    "        \n",
    "        if level!=\"C\": \n",
    "        \n",
    "            id = prop[\"grid_id\"]               # get grid cell id\n",
    "            cell = pl.GeoJSON(data=feat)       # make geojson map layer\n",
    "\n",
    "            # add object to map group and reference dictionary\n",
    "            grid_table[level][id] = cell\n",
    "            grid_layers[level].add_layer(cell)\n",
    "\n",
    "    \n",
    "# ------------------------------------------------------------------------------- \n",
    "# the above domain\n",
    "\n",
    "domain_json = 'data/ABoVE_Study_Domain/ABoVE_Study_Domain.json'  \n",
    "with open(domain_json, 'r') as file:\n",
    "    above_domain = json.load(file)\n",
    "    above_domain[\"features\"][0][\"properties\"][\"style\"] = {\n",
    "        \"weight\": 0.75,\n",
    "        \"color\": \"#FFFFFF\",\n",
    "        \"fillColor\": \"#FFFFFF\",\n",
    "        \"fillOpacity\": 0}\n",
    "    domain_layer = pl.GeoJSON(data=above_domain)\n",
    "\n",
    "    \n",
    "# -------------------------------------------------------------------------------\n",
    "# JSON input interface\n",
    "\n",
    "# the default json string for selecting collections/granules \n",
    "with open('data/geom.json', 'r') as file:\n",
    "    default_json = file.read().replace('\\n', '')\n",
    "\n",
    "geojson_label = pw.HTML(\"<h4><b>Paste your GeoJSON: </b></h4>\")\n",
    "geojson_text = pw.Textarea(\n",
    "    value=default_json,\n",
    "    placeholder='Paste GeoJSON string here.',\n",
    "    disabled=False,\n",
    "    layout=pw.Layout(width=\"auto\", height=\"200px\"))\n",
    "\n",
    "\n",
    "# -------------------------------------------------------------------------------\n",
    "# map widget interface\n",
    "\n",
    "# load a basemap layer from ESRI service\n",
    "esri = pl.basemap_to_tiles(pl.basemaps.Esri.WorldImagery)\n",
    "gibs = pl.basemap_to_tiles(pl.basemaps.NASAGIBS.ModisTerraTrueColorCR, \"2019-01-01\")\n",
    "\n",
    "# initialize map widget\n",
    "m = pl.Map(layers=(esri, domain_layer,), center=(65, -150), zoom=5, scroll_wheel_zoom=True)\n",
    "control = pl.SplitMapControl(left_layer=grid_layers[\"A\"], right_layer=grid_layers[\"B\"])\n",
    "m.add_control(control)\n",
    "\n",
    "# add an options menu\n",
    "#m.add_control(pl.LayersControl())\n",
    "\n",
    "# -------------------------------------------------------------------------------\n",
    "# display!\n",
    "pw.VBox([geojson_label, geojson_text, m])"
   ]
  },
  {
   "cell_type": "code",
   "execution_count": null,
   "metadata": {},
   "outputs": [],
   "source": [
    "above_grid[\"features\"][0]"
   ]
  },
  {
   "cell_type": "markdown",
   "metadata": {},
   "source": [
    "# TOC:\n",
    "\n",
    "[CMR: find ABoVE datasets](above-ornl-daac.ipynb#Searching-CMR-with-Python)\n",
    "\n",
    "# Subset, download ABoVE data from THREDDS: "
   ]
  },
  {
   "cell_type": "code",
   "execution_count": null,
   "metadata": {},
   "outputs": [],
   "source": [
    "geojson_text.value"
   ]
  },
  {
   "cell_type": "code",
   "execution_count": null,
   "metadata": {},
   "outputs": [],
   "source": [
    "import json\n",
    "import xarray as xr\n",
    "from osgeo import gdal, ogr, osr\n",
    "\n",
    "#jsonstr = geojson_text.value\n",
    "shp = ogr.Open(\"geo.shp\")    # open shapefile\n",
    "lyr = shp.GetLayer()             # get first (and only) layer\n",
    "ext = lyr.GetExtent()            # get extent\n",
    "\n",
    "ext"
   ]
  },
  {
   "cell_type": "code",
   "execution_count": null,
   "metadata": {},
   "outputs": [],
   "source": [
    "source_srs = lyr.GetSpatialRef()                                 # get srs\n",
    "target_srs = osr.SpatialReference()                              # output srs\n",
    "target_srs.ImportFromEPSG(4326)                            # import daymet proj\n",
    "\n",
    "transform = osr.CoordinateTransformation(source_srs, target_srs) # the transformation"
   ]
  },
  {
   "cell_type": "code",
   "execution_count": null,
   "metadata": {},
   "outputs": [],
   "source": [
    "feat = lyr.GetFeature(0)         # select the input layer's only feature\n",
    "geom = feat.GetGeometryRef()     # get the feature's geometry\n",
    "geom.Transform(transform)          # transform to daymet lcc\n",
    "\n",
    "geom"
   ]
  },
  {
   "cell_type": "code",
   "execution_count": null,
   "metadata": {},
   "outputs": [],
   "source": [
    "memvector = ogr.GetDriverByName('Memory').CreateDataSource('mem')  # open OGR vector memory dataset\n",
    "memlyr = memvector.CreateLayer('poly', srs=target_srs)             # make a dummy layer in daymet lcc\n",
    "memfeat = ogr.Feature(memlyr.GetLayerDefn())                       # init a dummy feature\n",
    "memfeat.SetGeometryDirectly(geom)                                  # set transformed geom to feature\n",
    "memlyr.CreateFeature(memfeat)                                      # add dummy feature to layer\n",
    "\n",
    "lccext = memlyr.GetExtent()                                        # get the lcc extent for the next step\n",
    "lccext"
   ]
  },
  {
   "cell_type": "code",
   "execution_count": null,
   "metadata": {},
   "outputs": [],
   "source": []
  },
  {
   "cell_type": "code",
   "execution_count": null,
   "metadata": {},
   "outputs": [],
   "source": []
  },
  {
   "cell_type": "code",
   "execution_count": null,
   "metadata": {},
   "outputs": [],
   "source": []
  },
  {
   "cell_type": "code",
   "execution_count": null,
   "metadata": {},
   "outputs": [],
   "source": []
  },
  {
   "cell_type": "code",
   "execution_count": null,
   "metadata": {},
   "outputs": [],
   "source": []
  },
  {
   "cell_type": "code",
   "execution_count": null,
   "metadata": {},
   "outputs": [],
   "source": []
  },
  {
   "cell_type": "code",
   "execution_count": null,
   "metadata": {},
   "outputs": [],
   "source": []
  },
  {
   "cell_type": "code",
   "execution_count": null,
   "metadata": {},
   "outputs": [],
   "source": [
    "\n",
    "above_thredds = (\"https://thredds.daac.ornl.gov/thredds/catalogs/ornldaac/\"\n",
    "                 \"Field_Campaign_Data/Arctic-Boreal_Vulnerability_Experiment/\"\n",
    "                 \"Arctic-Boreal_Vulnerability_Experiment.html\")\n",
    "\n",
    "response = requests.get(above_thredds)\n",
    "\n",
    "from lxml import html\n",
    "\n",
    "page = html.fromstring(response.content)  # parse html to list\n",
    "href = page.xpath('//a/@href')                              # get links\n",
    "links = [link for link in href] # select links \n",
    "\n",
    "links"
   ]
  },
  {
   "cell_type": "markdown",
   "metadata": {},
   "source": [
    "# Searching CMR with Python:\n",
    "\n",
    "A Python wrapper to NASA's Common Metadata Repository (CMR) API is available through pip:\n",
    "```{shell}\n",
    "pip install python-cmr\n",
    "```\n",
    "\n",
    "See what's available in `cmr` package:"
   ]
  },
  {
   "cell_type": "code",
   "execution_count": null,
   "metadata": {
    "scrolled": false
   },
   "outputs": [],
   "source": [
    "import cmr\n",
    "import json\n",
    "\n",
    "printd = lambda o: print([a for a in dir(o) if \"__\" not in a])\n",
    "#help(cmr)"
   ]
  },
  {
   "cell_type": "markdown",
   "metadata": {},
   "source": [
    "Import the public classes; check out collections:"
   ]
  },
  {
   "cell_type": "code",
   "execution_count": null,
   "metadata": {
    "scrolled": false
   },
   "outputs": [],
   "source": [
    "from cmr import CollectionQuery, GranuleQuery\n",
    "\n",
    "collections = CollectionQuery()\n",
    "granules = GranuleQuery()\n",
    "\n",
    "printd(collections)"
   ]
  },
  {
   "cell_type": "markdown",
   "metadata": {},
   "source": [
    "Get ORNL DAAC collections:"
   ]
  },
  {
   "cell_type": "code",
   "execution_count": null,
   "metadata": {
    "scrolled": false
   },
   "outputs": [],
   "source": [
    "ornldaac = collections.archive_center(\"ORNL_DAAC\")\n",
    "\n",
    "printd(ornldaac)"
   ]
  },
  {
   "cell_type": "markdown",
   "metadata": {},
   "source": [
    "### Get all ORNL DAAC's ABoVE datasets in CMR. Print the number of datasets and the first dataset's record:"
   ]
  },
  {
   "cell_type": "code",
   "execution_count": null,
   "metadata": {},
   "outputs": [],
   "source": [
    "above = [d for d in ornldaac.keyword(\"ABoVE\").get_all() if \"ABoVE\" in d[\"title\"]]\n",
    "print(\"Number of ABoVE datasets at ORNL DAAC:\"+str(len(above)))\n",
    "print(print(json.dumps(above[0], indent=4)))"
   ]
  },
  {
   "cell_type": "code",
   "execution_count": null,
   "metadata": {},
   "outputs": [],
   "source": []
  },
  {
   "cell_type": "markdown",
   "metadata": {},
   "source": [
    "### Datasets to pandas data frame:"
   ]
  },
  {
   "cell_type": "code",
   "execution_count": null,
   "metadata": {
    "scrolled": false
   },
   "outputs": [],
   "source": [
    "import pandas as pd\n",
    "\n",
    "datasets = pd.DataFrame(above)\n",
    "\n",
    "datasets.head(5)"
   ]
  },
  {
   "cell_type": "code",
   "execution_count": null,
   "metadata": {},
   "outputs": [],
   "source": []
  },
  {
   "cell_type": "markdown",
   "metadata": {},
   "source": [
    "### List of dataset titles:"
   ]
  },
  {
   "cell_type": "code",
   "execution_count": null,
   "metadata": {},
   "outputs": [],
   "source": [
    "dsnames = datasets.dataset_id.tolist()\n",
    "dsnames"
   ]
  },
  {
   "cell_type": "markdown",
   "metadata": {},
   "source": [
    "### Get last 10 published ABoVE datasets:"
   ]
  },
  {
   "cell_type": "code",
   "execution_count": null,
   "metadata": {},
   "outputs": [],
   "source": [
    "datasets.sort_values(\"updated\")"
   ]
  },
  {
   "cell_type": "code",
   "execution_count": null,
   "metadata": {},
   "outputs": [],
   "source": []
  },
  {
   "cell_type": "code",
   "execution_count": null,
   "metadata": {},
   "outputs": [],
   "source": [
    "cmr = \"https://cmr.earthdata.nasa.gov/search/\"\n",
    "\n",
    "project = \"ABoVE\"\n",
    "\n",
    "\n",
    "\n",
    "collections = \"collections?\" #  options:\n",
    "projectstr = \"project=%s\"\n",
    "\n",
    "\n",
    "\n",
    "\n",
    "project % \"ABoVE\""
   ]
  }
 ],
 "metadata": {
  "kernelspec": {
   "display_name": "Python 3",
   "language": "python",
   "name": "python3"
  },
  "language_info": {
   "codemirror_mode": {
    "name": "ipython",
    "version": 3
   },
   "file_extension": ".py",
   "mimetype": "text/x-python",
   "name": "python",
   "nbconvert_exporter": "python",
   "pygments_lexer": "ipython3",
   "version": "3.7.1"
  }
 },
 "nbformat": 4,
 "nbformat_minor": 2
}
